{
 "cells": [
  {
   "cell_type": "markdown",
   "metadata": {},
   "source": [
    "### Importing Necessary Libraries and Modules\n",
    "\n",
    "Before diving into the code, ensure that the necessary Python libraries and modules are installed. If not already installed, you can install them using `pip`, Python's package installer.\n",
    "\n",
    "#### Libraries to Install:\n",
    "\n",
    "1. **Elasticsearch**:\n",
    "   - Install with: `pip install elasticsearch`\n",
    "   - The Elasticsearch library allows connecting to and interacting with an Elasticsearch cluster.\n",
    "\n",
    "2. **FastAPI**:\n",
    "   - Install with: `pip install fastapi`\n",
    "   - FastAPI is a modern, fast web framework for building APIs. `HTTPException` is used for handling HTTP errors in the API.\n",
    "\n",
    "3. **Pydantic**:\n",
    "   - Install with: `pip install pydantic`\n",
    "   - Pydantic is used for data validation and settings management with Python type annotations.\n",
    "\n",
    "4. **UUID**:\n",
    "   - The `uuid` module is part of Python’s standard library, so no additional installation is required.\n",
    "   - Used to generate unique identifiers for resources or entities.\n",
    "\n",
    "5. **Typing**:\n",
    "   - The `typing` module is also part of Python’s standard library.\n",
    "   - Provides support for type hints in Python.\n",
    "\n",
    "6. **OpenAI**:\n",
    "   - Install with: `pip install openai`\n",
    "   - This library is used to integrate OpenAI functionalities, like GPT models, into the application.\n",
    "\n",
    "7. **Logging**:\n",
    "   - `logging` is a module available in Python’s standard library.\n",
    "   - Used for logging messages and debugging.\n",
    "\n",
    "8. **Uvicorn**:\n",
    "  - Install with: `pip install uvicorn`\n",
    "  - Uvicorn is an ASGI server implementation, which is essential for serving FastAPI applications. It offers high performance and is easy to deploy.\n",
    "\n",
    "\n",
    "#### Installing with Pip:\n",
    "\n",
    "To install these libraries, run the following commands in your terminal or command prompt:\n",
    "\n",
    "```bash\n",
    "pip install elasticsearch\n",
    "pip install fastapi\n",
    "pip install pydantic\n",
    "pip install openai\n",
    "pip install uvicorn\n",
    "```"
   ]
  },
  {
   "cell_type": "code",
   "execution_count": 2,
   "metadata": {},
   "outputs": [],
   "source": [
    "from elasticsearch import Elasticsearch, NotFoundError\n",
    "from fastapi import FastAPI\n",
    "from fastapi import HTTPException\n",
    "from pydantic import BaseModel\n",
    "import uuid\n",
    "from typing import List, Optional\n",
    "from openai import OpenAI\n",
    "import logging\n"
   ]
  },
  {
   "cell_type": "markdown",
   "metadata": {},
   "source": [
    "### Initializing OpenAI Client:\n",
    "OpenAI Client Setup:\n",
    "openai_client = OpenAI(api_key=\"your-openai-key\")\n",
    "This line creates an instance of the OpenAI client using your unique API key (\"your-openai-key\"). Replace \"your-openai-key\" with your actual OpenAI API key.\n",
    "The OpenAI client is used to interact with OpenAI's API, enabling the application to utilize AI models like GPT-3 for various tasks.\n",
    "### Setting Up Embedding Model:\n",
    "Embedding Model Specification:\n",
    "embedding_model = \"text-embedding-ada-002\"\n",
    "Here, we specify the model to be used for text embedding. In this case, \"text-embedding-ada-002\" is assigned to the embedding_model variable.\n",
    "This model can be used for converting text into meaningful numerical representations, which are essential in various natural language processing tasks."
   ]
  },
  {
   "cell_type": "code",
   "execution_count": 4,
   "metadata": {},
   "outputs": [],
   "source": [
    "openai_client = OpenAI(api_key=\"your-openai-key\")\n",
    "embedding_model = \"text-embedding-ada-002\"\n",
    "logging.basicConfig(level=logging.INFO)\n"
   ]
  },
  {
   "cell_type": "code",
   "execution_count": 8,
   "metadata": {},
   "outputs": [],
   "source": [
    "app = FastAPI()\n",
    "\n",
    "INDEX_NAME = \"qa_data\"\n",
    "es = Elasticsearch(hosts=\"http://localhost:9200\")"
   ]
  },
  {
   "cell_type": "markdown",
   "metadata": {},
   "source": [
    "### Overview:\n",
    "\n",
    "- **Purpose**: \n",
    "  - The function `create_index` sets up an Elasticsearch index with a specific structure to store question and answer data along with their vector representations.\n",
    "\n",
    "- **Significance of 1536**: \n",
    "  - The dimension size `1536` is critical as it aligns with the vector size returned by OpenAI for text embeddings. This ensures that the index can efficiently store and handle the vector data provided by OpenAI's models.\n",
    "\n",
    "- **Index Creation**: \n",
    "  - The function uses the Elasticsearch client to create an index with the defined mappings, facilitating effective data storage and search operations.\n",
    "\n",
    "- This function is essential for integrating Elasticsearch with OpenAI's AI models, particularly for applications involving natural language processing and text analysis.\n"
   ]
  },
  {
   "cell_type": "code",
   "execution_count": 10,
   "metadata": {},
   "outputs": [],
   "source": [
    "def create_index(es_client, index_name):\n",
    "    mapping = {\n",
    "        \"mappings\": {\n",
    "            \"properties\": {\n",
    "                \"question\": {\"type\": \"text\"},\n",
    "                \"answer\": {\"type\": \"text\"},\n",
    "                \"tags\": {\"type\": \"keyword\"},\n",
    "                \"question_vector\": {\"type\": \"dense_vector\", \"dims\": 1536},\n",
    "                \"answer_vector\": {\"type\": \"dense_vector\", \"dims\": 1536}\n",
    "            }\n",
    "        }\n",
    "    }\n",
    "    es_client.indices.create(index=index_name, body=mapping)\n",
    "    create_index(es, INDEX_NAME)\n"
   ]
  },
  {
   "cell_type": "code",
   "execution_count": 11,
   "metadata": {},
   "outputs": [],
   "source": [
    "class QuestionAnswerModel(BaseModel):\n",
    "    question: str\n",
    "    answer: str\n",
    "    tags: Optional[List[str]] = None\n",
    "\n",
    "class QueryModel(BaseModel):\n",
    "    query: str"
   ]
  },
  {
   "cell_type": "code",
   "execution_count": 12,
   "metadata": {},
   "outputs": [],
   "source": [
    "@app.get(\"/health/\")\n",
    "def health_check():\n",
    "    return {\"status\": \"healthy\"}"
   ]
  },
  {
   "cell_type": "code",
   "execution_count": 13,
   "metadata": {},
   "outputs": [],
   "source": [
    "@app.post(\"/train/\")\n",
    "async def train(data: QuestionAnswerModel):\n",
    "    # Extract data from request body\n",
    "    question = data.question.lower()\n",
    "    answer = data.answer\n",
    "    tags = data.tags\n",
    "    \n",
    "    # embedding using openai\n",
    "    question_vector = openai_client.embeddings.create(input=[question], model=embedding_model).data[0].embedding\n",
    "    answer_vector = openai_client.embeddings.create(input=[question], model=embedding_model).data[0].embedding\n",
    "    # Create and index the document\n",
    "    doc = {\n",
    "        \"question\": question,\n",
    "        \"answer\": answer,\n",
    "        \"tags\": tags,\n",
    "        \"question_vector\": question_vector,\n",
    "        \"answer_vector\": answer_vector\n",
    "    }\n",
    "    doc_id = uuid.uuid4()\n",
    "    es.index(index=\"qa_data\", id=doc_id, body=doc)\n",
    "    return {\"message\": \"Question and answer added successfully\", \"document_id\": doc_id}"
   ]
  },
  {
   "cell_type": "code",
   "execution_count": 14,
   "metadata": {},
   "outputs": [],
   "source": [
    "@app.post(\"/ask/\")\n",
    "async def ask(data: QueryModel):\n",
    "    # Vectorize the query using sentence transformers\n",
    "    # query_vector = sentence_model.encode(query).tolist()\n",
    "    logging.info(\"Query: %s\", data.query)\n",
    "    embedding_response = openai_client.embeddings.create(\n",
    "        input=[data.query], model=embedding_model\n",
    "    )\n",
    "    logging.info(\"Embedding Response: %s\", embedding_response)\n",
    "    query_vector = embedding_response.data[0].embedding\n",
    "    logging.info(\"Query Vector: %s\", query_vector)\n",
    "    # Elasticsearch query for cosine similarity\n",
    "    script_query = {\n",
    "        \"script_score\": {\n",
    "            \"query\": {\"match_all\": {}},\n",
    "            \"script\": {\n",
    "                \"source\": \"cosineSimilarity(params.query_vector, 'question_vector') + 1.0\",\n",
    "                \"params\": {\"query_vector\": query_vector}\n",
    "            }\n",
    "        }\n",
    "    }\n",
    "\n",
    "    # Perform the search\n",
    "    response = es.search(\n",
    "        index=\"qa_data\",\n",
    "        body={\n",
    "            \"size\": 2,\n",
    "            \"query\": script_query,\n",
    "            \"_source\": {\"includes\": [\"answer\"]}\n",
    "        }\n",
    "    )\n",
    "\n",
    "    # Extracting answers\n",
    "    answers = [hit['_source']['answer'] for hit in response['hits']['hits']]\n",
    "\n",
    "    return {\"answers\": answers}"
   ]
  },
  {
   "cell_type": "code",
   "execution_count": 16,
   "metadata": {},
   "outputs": [
    {
     "name": "stderr",
     "output_type": "stream",
     "text": [
      "INFO:     Started server process [23460]\n",
      "INFO:     Waiting for application startup.\n",
      "INFO:     Application startup complete.\n",
      "INFO:     Uvicorn running on http://0.0.0.0:5001 (Press CTRL+C to quit)\n",
      "INFO:httpx:HTTP Request: POST https://api.openai.com/v1/embeddings \"HTTP/1.1 200 OK\"\n",
      "INFO:httpx:HTTP Request: POST https://api.openai.com/v1/embeddings \"HTTP/1.1 200 OK\"\n",
      "INFO:elastic_transport.transport:PUT http://localhost:9200/qa_data/_doc/6ced6465-5365-40a2-afc2-b1f7b268b68d [status:201 duration:0.846s]\n"
     ]
    },
    {
     "name": "stdout",
     "output_type": "stream",
     "text": [
      "INFO:     127.0.0.1:15490 - \"POST /train/ HTTP/1.1\" 200 OK\n"
     ]
    },
    {
     "name": "stderr",
     "output_type": "stream",
     "text": [
      "INFO:httpx:HTTP Request: POST https://api.openai.com/v1/embeddings \"HTTP/1.1 200 OK\"\n",
      "INFO:httpx:HTTP Request: POST https://api.openai.com/v1/embeddings \"HTTP/1.1 200 OK\"\n",
      "INFO:elastic_transport.transport:PUT http://localhost:9200/qa_data/_doc/1a8465b8-a963-40bd-a50f-7214686b274d [status:201 duration:0.088s]\n"
     ]
    },
    {
     "name": "stdout",
     "output_type": "stream",
     "text": [
      "INFO:     127.0.0.1:15530 - \"POST /train/ HTTP/1.1\" 200 OK\n"
     ]
    },
    {
     "name": "stderr",
     "output_type": "stream",
     "text": [
      "INFO:httpx:HTTP Request: POST https://api.openai.com/v1/embeddings \"HTTP/1.1 200 OK\"\n",
      "INFO:httpx:HTTP Request: POST https://api.openai.com/v1/embeddings \"HTTP/1.1 200 OK\"\n",
      "INFO:elastic_transport.transport:PUT http://localhost:9200/qa_data/_doc/de676df2-28ee-4992-8ba1-bb6bcb379905 [status:201 duration:0.081s]\n"
     ]
    },
    {
     "name": "stdout",
     "output_type": "stream",
     "text": [
      "INFO:     127.0.0.1:15534 - \"POST /train/ HTTP/1.1\" 200 OK\n"
     ]
    },
    {
     "name": "stderr",
     "output_type": "stream",
     "text": [
      "INFO:httpx:HTTP Request: POST https://api.openai.com/v1/embeddings \"HTTP/1.1 200 OK\"\n",
      "INFO:httpx:HTTP Request: POST https://api.openai.com/v1/embeddings \"HTTP/1.1 200 OK\"\n",
      "INFO:elastic_transport.transport:PUT http://localhost:9200/qa_data/_doc/2f7e85bc-acc3-49a4-bd0f-15adf1980159 [status:201 duration:0.075s]\n"
     ]
    },
    {
     "name": "stdout",
     "output_type": "stream",
     "text": [
      "INFO:     127.0.0.1:15538 - \"POST /train/ HTTP/1.1\" 200 OK\n"
     ]
    },
    {
     "name": "stderr",
     "output_type": "stream",
     "text": [
      "INFO:httpx:HTTP Request: POST https://api.openai.com/v1/embeddings \"HTTP/1.1 200 OK\"\n",
      "INFO:httpx:HTTP Request: POST https://api.openai.com/v1/embeddings \"HTTP/1.1 200 OK\"\n",
      "INFO:elastic_transport.transport:PUT http://localhost:9200/qa_data/_doc/30c9dc62-d768-4200-a84e-decc3d904429 [status:201 duration:0.026s]\n"
     ]
    },
    {
     "name": "stdout",
     "output_type": "stream",
     "text": [
      "INFO:     127.0.0.1:15544 - \"POST /train/ HTTP/1.1\" 200 OK\n"
     ]
    },
    {
     "name": "stderr",
     "output_type": "stream",
     "text": [
      "INFO:httpx:HTTP Request: POST https://api.openai.com/v1/embeddings \"HTTP/1.1 200 OK\"\n",
      "INFO:httpx:HTTP Request: POST https://api.openai.com/v1/embeddings \"HTTP/1.1 200 OK\"\n",
      "INFO:elastic_transport.transport:PUT http://localhost:9200/qa_data/_doc/7a59a8b3-fe48-4b69-8fe8-41186b995a31 [status:201 duration:0.024s]\n"
     ]
    },
    {
     "name": "stdout",
     "output_type": "stream",
     "text": [
      "INFO:     127.0.0.1:15578 - \"POST /train/ HTTP/1.1\" 200 OK\n"
     ]
    },
    {
     "name": "stderr",
     "output_type": "stream",
     "text": [
      "INFO:httpx:HTTP Request: POST https://api.openai.com/v1/embeddings \"HTTP/1.1 200 OK\"\n",
      "INFO:httpx:HTTP Request: POST https://api.openai.com/v1/embeddings \"HTTP/1.1 200 OK\"\n",
      "INFO:elastic_transport.transport:PUT http://localhost:9200/qa_data/_doc/1f19f6bc-a645-47db-9685-7834a97334a0 [status:201 duration:0.022s]\n"
     ]
    },
    {
     "name": "stdout",
     "output_type": "stream",
     "text": [
      "INFO:     127.0.0.1:15583 - \"POST /train/ HTTP/1.1\" 200 OK\n"
     ]
    },
    {
     "name": "stderr",
     "output_type": "stream",
     "text": [
      "INFO:httpx:HTTP Request: POST https://api.openai.com/v1/embeddings \"HTTP/1.1 200 OK\"\n",
      "INFO:httpx:HTTP Request: POST https://api.openai.com/v1/embeddings \"HTTP/1.1 200 OK\"\n",
      "INFO:elastic_transport.transport:PUT http://localhost:9200/qa_data/_doc/01927c43-7f44-4f44-81bd-b7e6332343c7 [status:201 duration:0.034s]\n"
     ]
    },
    {
     "name": "stdout",
     "output_type": "stream",
     "text": [
      "INFO:     127.0.0.1:15583 - \"POST /train/ HTTP/1.1\" 200 OK\n"
     ]
    },
    {
     "name": "stderr",
     "output_type": "stream",
     "text": [
      "INFO:httpx:HTTP Request: POST https://api.openai.com/v1/embeddings \"HTTP/1.1 200 OK\"\n",
      "INFO:httpx:HTTP Request: POST https://api.openai.com/v1/embeddings \"HTTP/1.1 200 OK\"\n",
      "INFO:elastic_transport.transport:PUT http://localhost:9200/qa_data/_doc/011a332b-f792-4ade-838e-8e6cb6ef83a3 [status:201 duration:0.019s]\n"
     ]
    },
    {
     "name": "stdout",
     "output_type": "stream",
     "text": [
      "INFO:     127.0.0.1:15589 - \"POST /train/ HTTP/1.1\" 200 OK\n"
     ]
    },
    {
     "name": "stderr",
     "output_type": "stream",
     "text": [
      "INFO:httpx:HTTP Request: POST https://api.openai.com/v1/embeddings \"HTTP/1.1 200 OK\"\n",
      "INFO:httpx:HTTP Request: POST https://api.openai.com/v1/embeddings \"HTTP/1.1 200 OK\"\n",
      "INFO:elastic_transport.transport:PUT http://localhost:9200/qa_data/_doc/ef9cbdd6-e76e-4b19-969f-06a814c263ff [status:201 duration:0.019s]\n"
     ]
    },
    {
     "name": "stdout",
     "output_type": "stream",
     "text": [
      "INFO:     127.0.0.1:15593 - \"POST /train/ HTTP/1.1\" 200 OK\n"
     ]
    },
    {
     "name": "stderr",
     "output_type": "stream",
     "text": [
      "INFO:httpx:HTTP Request: POST https://api.openai.com/v1/embeddings \"HTTP/1.1 200 OK\"\n",
      "INFO:httpx:HTTP Request: POST https://api.openai.com/v1/embeddings \"HTTP/1.1 200 OK\"\n",
      "INFO:elastic_transport.transport:PUT http://localhost:9200/qa_data/_doc/a1fa046d-120e-4b5b-913d-96f771d30bd4 [status:201 duration:0.017s]\n"
     ]
    },
    {
     "name": "stdout",
     "output_type": "stream",
     "text": [
      "INFO:     127.0.0.1:15593 - \"POST /train/ HTTP/1.1\" 200 OK\n"
     ]
    },
    {
     "name": "stderr",
     "output_type": "stream",
     "text": [
      "INFO:httpx:HTTP Request: POST https://api.openai.com/v1/embeddings \"HTTP/1.1 200 OK\"\n",
      "INFO:httpx:HTTP Request: POST https://api.openai.com/v1/embeddings \"HTTP/1.1 200 OK\"\n",
      "INFO:elastic_transport.transport:PUT http://localhost:9200/qa_data/_doc/9f7d58fb-f65e-405c-9609-4de339b323e1 [status:201 duration:0.022s]\n"
     ]
    },
    {
     "name": "stdout",
     "output_type": "stream",
     "text": [
      "INFO:     127.0.0.1:15598 - \"POST /train/ HTTP/1.1\" 200 OK\n"
     ]
    },
    {
     "name": "stderr",
     "output_type": "stream",
     "text": [
      "INFO:httpx:HTTP Request: POST https://api.openai.com/v1/embeddings \"HTTP/1.1 200 OK\"\n",
      "INFO:httpx:HTTP Request: POST https://api.openai.com/v1/embeddings \"HTTP/1.1 200 OK\"\n",
      "INFO:elastic_transport.transport:PUT http://localhost:9200/qa_data/_doc/5d49b52c-f257-47f4-a07a-f7c21b87f543 [status:201 duration:0.019s]\n"
     ]
    },
    {
     "name": "stdout",
     "output_type": "stream",
     "text": [
      "INFO:     127.0.0.1:15602 - \"POST /train/ HTTP/1.1\" 200 OK\n"
     ]
    },
    {
     "name": "stderr",
     "output_type": "stream",
     "text": [
      "INFO:httpx:HTTP Request: POST https://api.openai.com/v1/embeddings \"HTTP/1.1 200 OK\"\n",
      "INFO:httpx:HTTP Request: POST https://api.openai.com/v1/embeddings \"HTTP/1.1 200 OK\"\n",
      "INFO:elastic_transport.transport:PUT http://localhost:9200/qa_data/_doc/ccc01f94-55bd-4220-b055-6f19633aadd6 [status:201 duration:0.032s]\n"
     ]
    },
    {
     "name": "stdout",
     "output_type": "stream",
     "text": [
      "INFO:     127.0.0.1:15606 - \"POST /train/ HTTP/1.1\" 200 OK\n"
     ]
    },
    {
     "name": "stderr",
     "output_type": "stream",
     "text": [
      "INFO:httpx:HTTP Request: POST https://api.openai.com/v1/embeddings \"HTTP/1.1 200 OK\"\n",
      "INFO:httpx:HTTP Request: POST https://api.openai.com/v1/embeddings \"HTTP/1.1 200 OK\"\n",
      "INFO:elastic_transport.transport:PUT http://localhost:9200/qa_data/_doc/eae5e194-b177-44d3-a75e-473b08a9d7d1 [status:201 duration:0.035s]\n"
     ]
    },
    {
     "name": "stdout",
     "output_type": "stream",
     "text": [
      "INFO:     127.0.0.1:15610 - \"POST /train/ HTTP/1.1\" 200 OK\n"
     ]
    },
    {
     "name": "stderr",
     "output_type": "stream",
     "text": [
      "INFO:httpx:HTTP Request: POST https://api.openai.com/v1/embeddings \"HTTP/1.1 200 OK\"\n",
      "INFO:httpx:HTTP Request: POST https://api.openai.com/v1/embeddings \"HTTP/1.1 200 OK\"\n",
      "INFO:elastic_transport.transport:PUT http://localhost:9200/qa_data/_doc/d4d9a9bc-a5b5-47a0-83f6-95f9e7bf187d [status:201 duration:0.024s]\n"
     ]
    },
    {
     "name": "stdout",
     "output_type": "stream",
     "text": [
      "INFO:     127.0.0.1:15610 - \"POST /train/ HTTP/1.1\" 200 OK\n"
     ]
    },
    {
     "name": "stderr",
     "output_type": "stream",
     "text": [
      "INFO:httpx:HTTP Request: POST https://api.openai.com/v1/embeddings \"HTTP/1.1 200 OK\"\n",
      "INFO:httpx:HTTP Request: POST https://api.openai.com/v1/embeddings \"HTTP/1.1 200 OK\"\n",
      "INFO:elastic_transport.transport:PUT http://localhost:9200/qa_data/_doc/9ff3917a-0409-4443-aa5e-03aba4aa5ae3 [status:201 duration:0.024s]\n"
     ]
    },
    {
     "name": "stdout",
     "output_type": "stream",
     "text": [
      "INFO:     127.0.0.1:15610 - \"POST /train/ HTTP/1.1\" 200 OK\n"
     ]
    },
    {
     "name": "stderr",
     "output_type": "stream",
     "text": [
      "INFO:httpx:HTTP Request: POST https://api.openai.com/v1/embeddings \"HTTP/1.1 200 OK\"\n",
      "INFO:httpx:HTTP Request: POST https://api.openai.com/v1/embeddings \"HTTP/1.1 200 OK\"\n",
      "INFO:elastic_transport.transport:PUT http://localhost:9200/qa_data/_doc/8e82f30c-c804-48b1-ac91-904b2bcf2ed0 [status:201 duration:0.020s]\n"
     ]
    },
    {
     "name": "stdout",
     "output_type": "stream",
     "text": [
      "INFO:     127.0.0.1:15610 - \"POST /train/ HTTP/1.1\" 200 OK\n"
     ]
    },
    {
     "name": "stderr",
     "output_type": "stream",
     "text": [
      "INFO:httpx:HTTP Request: POST https://api.openai.com/v1/embeddings \"HTTP/1.1 200 OK\"\n",
      "INFO:httpx:HTTP Request: POST https://api.openai.com/v1/embeddings \"HTTP/1.1 200 OK\"\n",
      "INFO:elastic_transport.transport:PUT http://localhost:9200/qa_data/_doc/038e57b8-fb29-4728-b4f9-25cc85e589ff [status:201 duration:0.038s]\n"
     ]
    },
    {
     "name": "stdout",
     "output_type": "stream",
     "text": [
      "INFO:     127.0.0.1:15619 - \"POST /train/ HTTP/1.1\" 200 OK\n"
     ]
    },
    {
     "name": "stderr",
     "output_type": "stream",
     "text": [
      "INFO:httpx:HTTP Request: POST https://api.openai.com/v1/embeddings \"HTTP/1.1 200 OK\"\n",
      "INFO:httpx:HTTP Request: POST https://api.openai.com/v1/embeddings \"HTTP/1.1 200 OK\"\n",
      "INFO:elastic_transport.transport:PUT http://localhost:9200/qa_data/_doc/1453a5f8-f061-4409-9854-04a01e919f40 [status:201 duration:0.021s]\n"
     ]
    },
    {
     "name": "stdout",
     "output_type": "stream",
     "text": [
      "INFO:     127.0.0.1:15623 - \"POST /train/ HTTP/1.1\" 200 OK\n"
     ]
    },
    {
     "name": "stderr",
     "output_type": "stream",
     "text": [
      "INFO:httpx:HTTP Request: POST https://api.openai.com/v1/embeddings \"HTTP/1.1 200 OK\"\n",
      "INFO:httpx:HTTP Request: POST https://api.openai.com/v1/embeddings \"HTTP/1.1 200 OK\"\n",
      "INFO:elastic_transport.transport:PUT http://localhost:9200/qa_data/_doc/9c8020dd-bf37-4293-9671-59dfe37332b5 [status:201 duration:0.025s]\n"
     ]
    },
    {
     "name": "stdout",
     "output_type": "stream",
     "text": [
      "INFO:     127.0.0.1:15623 - \"POST /train/ HTTP/1.1\" 200 OK\n"
     ]
    },
    {
     "name": "stderr",
     "output_type": "stream",
     "text": [
      "INFO:httpx:HTTP Request: POST https://api.openai.com/v1/embeddings \"HTTP/1.1 200 OK\"\n",
      "INFO:httpx:HTTP Request: POST https://api.openai.com/v1/embeddings \"HTTP/1.1 200 OK\"\n",
      "INFO:elastic_transport.transport:PUT http://localhost:9200/qa_data/_doc/6c158144-d0f1-436f-a7f3-7427bda4a916 [status:201 duration:0.022s]\n"
     ]
    },
    {
     "name": "stdout",
     "output_type": "stream",
     "text": [
      "INFO:     127.0.0.1:15623 - \"POST /train/ HTTP/1.1\" 200 OK\n"
     ]
    },
    {
     "name": "stderr",
     "output_type": "stream",
     "text": [
      "INFO:httpx:HTTP Request: POST https://api.openai.com/v1/embeddings \"HTTP/1.1 200 OK\"\n",
      "INFO:httpx:HTTP Request: POST https://api.openai.com/v1/embeddings \"HTTP/1.1 200 OK\"\n",
      "INFO:elastic_transport.transport:PUT http://localhost:9200/qa_data/_doc/c551b207-2cee-4e27-90ac-b47201f80d70 [status:201 duration:0.019s]\n"
     ]
    },
    {
     "name": "stdout",
     "output_type": "stream",
     "text": [
      "INFO:     127.0.0.1:15629 - \"POST /train/ HTTP/1.1\" 200 OK\n"
     ]
    },
    {
     "name": "stderr",
     "output_type": "stream",
     "text": [
      "INFO:httpx:HTTP Request: POST https://api.openai.com/v1/embeddings \"HTTP/1.1 200 OK\"\n",
      "INFO:httpx:HTTP Request: POST https://api.openai.com/v1/embeddings \"HTTP/1.1 200 OK\"\n",
      "INFO:elastic_transport.transport:PUT http://localhost:9200/qa_data/_doc/ee3bd89b-098e-4251-ac6b-d58c28464b6e [status:201 duration:0.025s]\n"
     ]
    },
    {
     "name": "stdout",
     "output_type": "stream",
     "text": [
      "INFO:     127.0.0.1:15633 - \"POST /train/ HTTP/1.1\" 200 OK\n"
     ]
    },
    {
     "name": "stderr",
     "output_type": "stream",
     "text": [
      "INFO:root:Query: What is payments?\n",
      "INFO:httpx:HTTP Request: POST https://api.openai.com/v1/embeddings \"HTTP/1.1 200 OK\"\n",
      "INFO:root:Embedding Response: CreateEmbeddingResponse(data=[Embedding(embedding=[0.0011098596, 0.0028799518, 0.0020759723, -0.02567386, -0.024564002, -0.005890279, -0.035435278, 0.0014224255, -0.007107113, -0.043190923, 0.029792376, 0.00637835, -0.027759861, 0.0013096009, 0.029150529, -0.0056195, 0.037146866, -0.0042890054, 0.0015812156, -0.017089164, -0.03629107, 0.0057565607, -0.027051156, 0.016594406, -0.010349775, -0.006044055, 0.01846646, -0.013137796, -0.0020843297, -0.0049074516, -0.0012235199, -0.021983244, -0.01973678, -0.0076754144, -0.024390167, -0.012014564, 0.013612495, 0.006565555, -0.01490956, 0.006351606, 0.02263846, 0.012823558, -0.009828275, -0.011620096, -0.022972757, 0.01164684, 0.0023133217, -0.032012094, -0.023186706, -0.00030086556, 0.021849524, 0.0117136985, -0.012295372, -0.030808633, -0.007100427, -0.0068129334, -0.0031657743, 0.0030470996, 0.011225628, 0.003911252, 0.00730769, 0.0051782303, -0.034392275, -0.0064485515, -0.01030966, -0.0041419156, -0.012422404, -3.3063872e-05, -0.036772456, -0.00047929553, 0.012629667, 0.00029898513, 0.0043157493, -0.0134520335, 0.020966986, -0.02055246, 0.008745159, -0.0046366723, -0.010557038, 0.019723408, 0.01208811, -0.0059337374, 0.010938134, 0.018934472, -0.0007759824, -0.010443377, -0.0059805387, 0.01068407, -0.015538034, 0.0033964377, 0.030835377, -0.010222743, 0.009179742, 0.022130333, 0.016046163, 0.03909915, -0.001592916, 0.042335127, 0.007053626, 0.0007672072, -0.01242909, 0.030594684, -0.016982188, -0.009193114, -0.00689985, -0.0012134911, 0.0008524524, -0.020338511, 0.03056794, 0.010550352, -0.024122732, 0.021943128, 0.008972479, -0.0121415965, 0.025807578, 0.019683292, 0.008798646, -0.004382608, -0.0021428312, -0.019937357, 0.024804693, 0.0014500049, 0.0057665897, 0.014428175, 0.012335488, -0.005679673, -0.014267713, -0.007875992, 0.013264828, -0.02701104, -0.005683016, 0.03511435, 0.0002507213, -0.00439598, 0.0014165753, 0.0045664706, -0.020900127, 0.022611719, -0.021421628, -0.016433945, -0.005074599, 0.029364478, -0.023547744, 0.0017985074, -0.005830106, 0.029364478, 0.022986129, -0.0028615657, -0.01109191, -0.010282916, 0.03449925, 0.038002662, 0.017851356, -0.0077422736, -0.005004397, 0.004469525, -0.007855934, 0.012108167, 0.011239, -0.018934472, 0.0063348915, 0.001436633, 0.024430282, -0.009019281, 0.017731009, 0.034231815, 0.021354768, 0.018453088, 0.0027027756, 0.01424097, -0.02003096, -0.004790448, -0.017022304, 0.024296565, -0.015912445, 0.013405232, -0.011419519, -0.0015745297, -0.016260112, 0.00042831554, 0.0013430304, -0.007301004, -0.003456611, 0.029257504, 0.000141762, -0.020378627, 0.006237946, -0.027184874, 0.008611441, -0.003797592, 0.00916637, 0.0052517755, -0.008444293, -0.019669922, -0.6807852, -0.016527548, 0.02076641, -0.011533179, 0.013117738, 0.013157854, 0.008083254, 0.0004955924, -0.030006325, 0.00916637, 0.025954667, -0.0031457164, -0.009600954, 0.021488486, -0.0074012927, -0.019402485, 0.005355407, -0.018158907, -0.037868943, 0.02322682, -0.01424097, 0.043913, -0.021047218, 0.020886755, 0.011379404, 0.015043277, 0.010557038, -0.010363147, -0.025165731, 0.013639239, -0.01906819, -0.000802726, 0.013365116, 0.014856072, 0.030353991, 0.020873383, -0.0051849163, 0.016661266, -0.031076068, 0.044019975, -0.025259335, -0.00047804194, 0.007026882, -0.020659436, 0.01676824, -0.011867475, 0.030407479, -0.020953614, 0.013231399, 0.024978526, -0.01884087, 0.013525578, -0.030247018, 0.008043139, 0.017517062, 0.0021545317, 0.0052584615, 0.00043082275, 0.0010630583, 0.02381518, -0.024403539, 0.002921739, -0.0063348915, -0.019857127, -0.0031005866, -0.0022865783, -0.017289741, 0.019710036, 0.012917161, -0.021234423, 6.654561e-05, 0.01980364, 0.016487433, -0.0070135104, 0.012963963, -0.006719331, 0.020712921, 0.007648671, -0.0019923986, -6.032981e-05, -0.03725384, -0.001420754, 0.0054022083, -0.012101481, 0.021996615, 0.00588025, 0.01654092, -0.02040537, 0.037895687, 0.022009987, 0.000267645, 0.013137796, 0.017035676, -0.020218166, -0.02032514, 0.018506574, 0.00054322946, -0.008524524, -0.007575126, 0.016273484, -0.0031691173, 0.015591522, -0.01461538, 0.00990182, 0.0051849163, -0.0022832353, -0.024777949, 0.012676469, 0.030353991, -0.02611513, 0.014495034, -0.044956, 0.0074948953, -0.0026576456, -0.02358786, -0.030862119, 0.030808633, -0.012415718, 0.011633468, -0.035863172, 0.0022798923, 0.00378422, 0.018560061, -0.017985074, -0.0057632467, 0.0061042276, -0.012027936, -0.020391999, 5.9807477e-05, 0.007835876, 0.0029852549, -6.518754e-05, -0.0079963375, -0.011031737, 0.024523886, -0.0075550685, -0.010797731, -0.012676469, 0.011105282, -0.03182489, -0.008056511, 0.013137796, 0.012629667, -0.012917161, -0.0058535063, -0.026529657, 0.0069800806, -0.0068731066, -0.016006047, 0.0091998, -0.018279254, -0.026609886, -0.014013649, 0.0055091823, -0.007628613, 0.0070201964, -0.0055158683, 0.0039580534, -0.029097041, -0.020873383, -0.003439896, 0.014160738, -0.031958606, -0.015297342, -0.009320146, -0.01593919, -0.0010028852, 0.014053764, -0.009707929, -0.019843755, 0.025687233, -0.003513441, -0.012903789, 0.016901959, 0.009540781, 0.03353648, 0.028963324, 0.015992675, -0.022478, -0.0008700029, -0.006973395, -0.0152037395, -0.014481662, 0.00010128096, 0.0027629486, -0.003383066, 0.0066491286, 0.028909836, -0.03169117, 0.025994783, -0.0143345725, 0.02834822, -0.008812018, 0.009480608, -0.0134587195, -0.0070669977, 0.014040393, 0.0057766186, 0.030166786, 0.025312822, 0.036611997, 0.015698496, 0.001898796, 0.02069955, -0.0026843892, -0.013311629, -0.0011140383, -0.03145048, 0.020806525, 0.03738756, 0.028588913, -0.023748321, -0.00378422, -0.013057565, 0.011245686, 0.03235976, -0.017102536, 0.0039580534, -0.007849248, 0.004392637, 0.008163486, -0.016942073, 0.008290517, -0.026021527, -0.0022147049, 0.0117136985, -0.0011474678, 0.028669145, -0.010008794, -0.023989012, -0.024457026, 0.011519807, -0.013224713, 0.010938134, -0.0011842402, 0.01179393, 0.0145618925, -0.0076754144, 0.009066082, -0.016260112, 0.0043759225, 0.024309937, 0.030300504, -0.0057131024, 0.024590744, -0.003080529, 0.02285241, 0.023253564, -0.01453515, 0.0057899905, 0.009353575, -0.00016286438, -0.03923287, -0.02032514, 0.0037541336, -0.042709537, 0.0075350106, -0.01712928, 0.0022915925, 0.008444293, 0.013619181, -0.001965655, 0.019790268, -0.018519945, 0.022825666, 0.01720951, -0.013084308, -0.017049048, 0.010690756, 6.910506e-05, 0.014882816, -0.017771125, -0.011158769, 0.0025088845, 0.03056794, 0.017557176, 0.0027596056, 0.001726634, 0.009600954, -0.0011407819, -0.010249486, -0.013077622, 0.0114796925, 0.007615241, -0.01587233, -0.011118653, -0.0013864888, -0.0051682014, 0.0075416965, 0.015029905, 0.0021511887, -0.009661127, -0.012502635, -0.025553515, -0.0011207241, -0.016219996, 0.03492715, 0.024283193, -0.029471453, -0.005833449, 0.001459198, 0.0108445315, -0.0050445125, -0.005662958, 0.027024413, 0.01958969, 0.014080508, -0.020646064, -0.007588498, -0.02011119, 0.020833269, -0.001452512, 0.0039613964, -0.020378627, 0.013124424, 0.0075283246, 0.010777673, 0.0014266041, 0.040516563, 0.0147758415, -0.0125962375, -0.021675691, 0.0010179285, 0.0055760415, 0.0748286, 0.006415122, 0.01668801, 0.027706375, -0.027920322, -0.024055872, -0.023106474, -0.0017483631, 0.013572379, 0.02233091, 0.008832076, 0.0033329218, -0.00053654355, -0.0038978804, 0.005866878, 0.0071606003, -0.020004217, -0.02003096, -0.0023333796, -0.033188812, 0.0037708483, -0.0047035315, 0.028588913, 0.023614602, -0.013251456, 0.0112657435, 0.02826799, -0.0025857722, 0.010209371, -0.01914842, 0.0011307531, -0.010430005, -0.012562809, 0.009132941, -0.0106238965, 0.022491371, 0.0036103867, 0.0084309215, 0.00841755, -0.0046901596, 0.0038978804, 0.025954667, 0.0020659436, -0.031798147, 0.019308882, -0.03580969, 0.0043424927, 0.002873266, -0.008511152, 0.014454918, -0.0068029044, 0.00081400847, -0.023093102, -0.01654092, 0.020646064, 0.01639383, -0.010316346, 0.014294457, -0.0035000693, -0.023066359, -0.025366308, -0.004389294, 0.0005052034, -0.010222743, 0.005749875, -0.035595737, -0.0056495867, -0.01942923, -0.006769475, 0.014361315, -0.001962312, -0.01765078, -0.023534372, -0.02663663, 0.025553515, -0.0163136, 0.009473922, -0.0063917213, 0.0023266936, 0.011178827, 0.011118653, -0.013518892, -0.0021261165, 0.012114853, -0.020712921, -0.0048372494, -0.011506435, 0.005806705, 0.010911391, 0.015564778, -0.0043358067, 0.004937538, 0.005014426, -0.025727348, 0.0024453683, 0.02055246, -0.014160738, 0.02130128, -0.023694834, 0.0077222157, 0.005662958, -0.012255257, -0.005348721, -0.007789075, -0.005134772, 0.008109998, 0.0057431892, 0.011152083, 0.016875215, -0.014642123, -0.008230344, -0.031102812, 0.009360261, 0.02381518, 0.017410086, 0.011981135, -0.002376838, 0.011733756, -0.032707427, 0.013077622, -0.00014479154, -0.016581034, 0.0001615063, 0.023788437, -0.01476247, -0.020726293, 0.022678576, -0.011111968, -0.005953795, -0.015992675, 0.0013864888, -0.008979165, -0.009995422, -0.0102428, -0.022103589, -0.0018503232, -0.017450202, 0.008537896, -0.014267713, 0.006960023, 0.0016982189, -0.015390945, -0.002739548, -0.011941019, 0.013411918, -0.040890973, -0.017182766, 0.009106197, -0.0079762805, 0.037360817, -0.0042188037, 0.0032543624, -0.023882039, -0.021635577, -0.002493841, -0.009092825, -0.0054456666, -0.022531487, 0.031209787, 0.026075015, 0.02151523, 0.0026843892, 0.001860352, 0.014000277, 0.004198746, -0.010463435, 0.009206486, -0.010577096, -0.0052216887, 0.0152037395, -0.0024269822, -0.00658227, 0.012495949, 0.007875992, 0.019001331, -0.008691671, 0.008243716, 0.004619958, -0.035488762, -0.021555346, 0.011312544, 0.00051272503, -0.0059337374, -0.011312544, -0.02086001, -0.019268768, -0.02485818, -0.025125617, -0.0011691969, 0.002335051, 0.020311767, -0.003341279, 0.022946013, -0.0055626696, 0.019576319, 0.010523609, -0.018613549, -0.015217111, -0.0025874437, 0.028107528, -0.011526493, 0.023427397, -0.006766132, -0.0013781313, -0.018038562, 0.0049709673, -0.034392275, -0.0016873543, 0.0043057203, 0.007033568, 0.0029518253, -0.017089164, -0.0296854, -0.005532583, -0.0038410502, 0.008150114, -0.030247018, 0.0076018698, 0.004476211, -0.01958969, 0.0114796925, -0.002022485, 0.0014291113, 0.010042223, 0.035034124, 0.01394679, 0.013813072, -0.02944471, -0.0027947067, 0.0030922294, -0.0031373592, 0.028802862, 0.014307829, 0.0070736837, -0.03225279, 0.011379404, 0.004422724, -0.03399112, -0.027104644, 0.014655495, 0.02567386, -0.015952561, -0.0036337874, -0.0077222157, -0.0013321658, 0.013492148, -0.013418604, -0.003459954, -0.013431976, -0.013057565, 0.0017834641, 0.008009709, -0.01617988, 0.012502635, -0.0066424427, -0.035649225, -0.02410936, -0.008517838, -0.009600954, 0.015685124, 0.001541936, 0.027545912, -0.008056511, 0.0154310595, -0.004967625, 0.0032259473, -0.0024470398, 0.00015816336, 0.009834961, 0.023654718, -0.012114853, -0.028695887, 0.023093102, -0.006217888, -0.01676824, -0.00087836024, -0.00073001685, -0.018239139, -0.010824474, -0.0071338564, 0.023347167, 0.009614326, -0.0032058896, 0.010851217, 0.0004437767, -0.00990182, -0.010590468, 0.0074012927, 0.039446816, 0.0022063474, -0.0011065167, -0.0015335786, 0.010791045, 0.016447317, 0.014040393, 0.0073210616, 0.00890562, 0.020498972, -0.004108486, 0.0026359165, 0.0057298173, 0.008992537, -0.011366032, 0.0064819814, -0.01743683, -0.026422681, 0.030701658, 0.003098915, -0.039954945, 0.0039747683, 0.0059471093, -0.004673445, -0.008063197, 0.01016257, -0.008337319, 0.02017805, 0.0060540834, 0.0034833546, -0.004065028, -0.0001095861, 0.013772956, 0.0065220967, 0.018132163, -0.04415369, 0.00029961194, -0.0025155703, -0.0028247933, -0.0007137199, 0.001366431, -0.016514177, 0.0038377072, 0.013672668, -0.012308744, -0.025245963, 0.0013279871, 0.009941935, -0.0037340757, 0.03487366, 0.0070603117, -0.0074948953, -0.027572656, 0.023280308, 0.033803917, 0.010523609, 0.0036973034, 0.0022314196, -0.021194307, -0.008150114, 0.0021160878, -0.024898296, -0.03145048, 0.026048271, 0.006090856, -0.01202125, -0.0342853, -0.004934195, -0.026596515, -0.012977334, 0.0052551185, 0.0036739027, 0.0043090633, 0.034820173, -0.01884087, 0.013986905, 0.013378488, 0.01928214, -0.023882039, -0.004416038, -0.0019455972, -0.010857903, -0.011513121, 0.006953337, -0.039152637, 0.014414803, 0.032600455, -9.59009e-05, 0.042495586, 0.019897241, -0.010938134, 0.0076754144, -0.0009727986, 0.0125895515, -0.008310575, 0.017690895, 0.011152083, -0.028776119, 0.008069883, -0.0130241355, 0.0027445625, -0.028428452, 0.0031239872, 0.0019071533, 0.00029459753, -0.0076687285, -0.010483493, -0.012917161, 0.0057197884, -0.002637588, 0.0057565607, 0.007615241, -0.004068371, -0.0041519445, 0.016955445, -0.00069366227, -0.0035535565, -0.010697442, -0.01268984, -0.0048740217, 0.013258142, -0.025914554, 0.017450202, -0.002844851, 0.008063197, -0.009687871, -0.0112724295, -0.0037775342, 0.0032677343, 0.0060641123, 0.001723291, -0.0042154607, -0.02188964, 0.02202336, -0.010329718, 0.0013898317, -0.006385036, -0.006966709, 0.0010889661, 0.01172707, -0.01639383, 0.039794482, -0.008678299, -0.009487294, -0.0019288824, 0.0059103365, -0.008297203, 0.0037675053, 0.20260955, -0.016888587, 0.0036872744, 0.015096765, 0.0047068745, 0.016581034, 0.0022982785, -0.010797731, -0.0037708483, 0.0010664013, 0.0016255097, 0.0070669977, -0.015337457, 0.01350552, -0.018880986, -0.014642123, -0.032038838, 0.0048940796, -0.0065087248, -0.0007066162, -0.007789075, 0.0015352501, 0.004278977, -0.008885562, 0.0075149527, -0.0028866378, 0.006221231, 0.0034900403, 0.013732841, 0.0168351, -0.0064719524, -0.005863535, -0.0003271913, 0.0041686594, -0.0011984478, -0.0136793535, -0.018199023, -0.013973533, 0.028455196, 0.031717915, 0.013204655, 0.007434722, -0.006742731, -0.025794206, 0.018519945, 0.0088588195, 0.00027955425, -0.018880986, -0.015751984, 0.019603062, -0.030086555, 0.016153138, 0.020659436, 0.03286789, -0.02479132, -0.0033596654, -0.004476211, 0.0049709673, -0.0154310595, 0.0019472687, 0.016487433, 0.013398546, -0.028749375, 0.03375043, -0.015043277, 0.03056794, -0.0051916023, -0.004235518, -4.2805437e-05, -0.004663416, 0.0015252212, -0.014013649, 0.002729519, -0.010931448, -0.007875992, -0.0032092326, 0.016607778, 0.029631915, 0.022611719, 0.012261943, -0.023280308, 0.006545497, -0.023534372, -0.009580896, -0.00083531975, -0.027920322, 0.019201908, -0.0148427, -0.023307052, -0.021328025, -0.0054356377, -0.007033568, -0.040249124, -0.024577372, 0.0043124063, 0.0077489596, 0.022584975, 0.02931099, -0.0066591576, 0.011332602, 0.0066223852, 0.048138488, 0.010851217, 0.014080508, -0.0014633766, -0.0015553078, -0.018961215, 0.032653943, -0.006568898, -0.01409388, 0.0052384036, -0.0183996, 0.015016534, -0.029043555, -0.0005043677, 0.015337457, -0.010563724, 0.014013649, 0.0018319369, -0.018199023, -0.0037039893, -0.04006192, -0.007501581, 0.0071940296, 0.016754868, -0.012656411, -0.011967763, -0.0073411195, 0.0014909559, -0.016072907, 0.028134272, -0.016340343, -0.0008202765, -0.021087332, -0.035943404, 0.00637835, 0.017450202, 0.008885562, -0.0048272205, 0.012549437, -0.019228652, 0.027492426, -0.020605948, 0.0012937218, 0.00990182, -0.020498972, 0.02722499, 0.0038042779, -0.015979303, -0.019041447, -0.024350053, -0.019228652, 0.00067485817, -0.037441045, 0.0128035005, -0.011285801, -0.011025051, -0.04048982, 0.027265105, 0.008491094, -0.028883094, -0.0066758725, 0.01795833, -0.019469345, -0.0066190423, 0.0061008846, -0.17190789, 0.008745159, -0.0093067745, 0.006164401, 0.0044929255, 0.0032660628, 0.0006606506, -0.016300227, 0.00229995, 0.008056511, 0.029257504, -0.0367992, -0.008611441, 0.0032643913, 0.027024413, 0.006772818, -0.0025406424, 0.02893658, 0.0017082477, 0.01921528, 0.046400156, 0.020793153, 0.002806407, -0.017049048, 0.0027278478, -0.00035289023, -0.033563223, 0.016086278, -0.00916637, -0.025566885, -0.028401708, 0.009360261, 0.0033914233, 0.028829606, 0.019442601, 3.2149783e-05, 0.0031106155, -0.0077489596, 0.014133995, 0.0016890258, 0.017690895, 0.031423736, -0.0183996, -0.0016012733, -0.0023183362, -0.004807163, 0.017075792, 0.007882677, 0.006682558, -0.010336403, 0.02011119, -0.021221051, -0.020258281, -0.0071806577, 0.026904067, 0.0014583622, 8.858819e-05, -0.004442781, -0.006960023, -0.01952283, 0.0014474976, -0.033964377, -0.008337319, -0.026797092, 0.001723291, 0.007962909, 0.022531487, 0.0011967763, -0.025192475, 0.004456153, 0.0026960897, -0.014508406, 0.002742891, 0.0003382648, -0.0034866976, -0.006000596, -0.021341396, 0.0059203655, 0.0019907271, 0.008745159, 0.008798646, 0.036210842, -0.012957277, 0.0059671667, 0.024577372, 0.020285023, 0.011078538, 0.013485462, 0.018292626, -0.004726932, 0.0034699827, -0.006836334, 0.016286856, -0.0010137497, 0.0035769572, 0.013552322, -0.006542154, -0.024844809, 0.0045129834, -0.0011006665, 0.0034866976, 0.017196137, -0.008404178, 0.020686178, 0.017035676, 0.0044260668, 0.012750014, 0.009286717, 0.027947066, -0.003456611, -0.05223026, 0.0022564917, 0.023748321, 0.037066635, 0.009427121, 0.025032014, 0.00931346, -0.026222104, 0.017517062, -0.01958969, 0.06402419, -0.009855018, -0.024871552, 0.010262858, -0.01528397, -0.00017195303, -0.104139596, -0.021167563, 0.002777992, 0.0032694056, 0.017156022, 0.026222104, 0.010851217, 0.013652611, 0.007929479, 0.016968817, -0.01921528, -0.03955379, -0.020525716, -0.017704267, -0.007835876, -0.016955445, -0.00086415274, -0.005863535, 0.02226405, 0.023159962, -0.028990068, -0.023922155, -0.015511291, -0.011740442, -0.028909836, -0.00093602616, -0.02061932, 0.0039881403, 0.0059270514, 0.010483493, 0.0019238681, -0.02061932, -0.014040393, -0.009614326, 0.016260112, 0.00016390905, -0.031076068, -0.013411918, 0.023948899, -0.008243716, 0.009139627, 0.026315708, 0.020726293, -0.013070937, 0.014829329, -0.021595461, -0.015324085, 0.0017700923, 0.021127447, -0.01513688, -0.019348998, -0.01712928, -0.013632553, -0.009032653, 0.025954667, -0.023320423, -0.012729956, 0.002736205, -0.009266659, -0.016139766, -0.014307829, 0.009092825, -0.038697995, 0.030915607, 0.006371664, -0.0059404233, -0.035435278, 0.002838165, 0.031477224, -0.0066625006, -0.032653943, 0.017837984, -0.017222881, -0.0053086057, -0.03375043, -0.0052317176, -0.03511435, 0.019616434, 0.011693642, -0.0103965765, 0.0026676746, -0.022063473, -0.0068530487, -0.016754868, 0.028080786, -0.0042288327, 0.003794249, -0.006227917, -0.013518892, -0.01942923, 0.009380319, 0.021180935, 0.030995838, -0.008892248, -0.007441408, 0.005876907, -0.015992675, -0.026476169, 0.033563223, 0.0027245048, 0.010750929, -0.0012151626, -0.051829107, 0.011158769, -0.012783443, -0.010530294, 0.011947705, -0.00634492, 0.025326194, -0.033135325, 0.00311563, 0.014695611, -0.0149897905, 0.025647117, 0.003249348, -0.009534095, -0.013157854, -0.011981135, 0.011941019, 0.018412972, 0.008604755, 0.010470121, -0.009400377, -0.024309937, 0.009848332, 0.015551406, 0.011686956, 0.014521778, -0.009106197, 0.014428175, -0.02263846, 0.0004571485, 0.0073879207, -0.014749098, -0.002366809, 0.021996615, 0.0016338672, 0.008932364, 0.0006092527, 0.017570548, 0.027866837, -0.0025021986, -0.033937633, -0.033028353, -0.007240831, -0.027265105, -0.02233091, -0.02619536, 7.658752e-06, 0.015965931, 0.020672806, 0.0033496364, 0.021180935, 0.02715813, -0.006829648, -0.016326971, -0.01453515, -0.00890562, 0.004466182, -0.014441547, 0.011152083, -0.023200078, 0.031477224, 0.01758392, -0.010617211, -0.0125761805, 0.012108167, -0.009881762, -0.031958606, 0.008765216, 0.022892525, -0.05594762, 0.0017383343, -0.025045386, -0.020271651, -0.0031290017, 0.015604894, -0.011018365, 0.019496087, -0.03500738, -0.020298395, 0.013271513, 0.025794206, -0.002229748, -0.037788715, 0.0044327523, 0.031076068, 0.012201769, 0.0023266936, 0.030728402, -0.026155245, 0.006411779, -0.014080508, 0.0041786884, -0.009213172, -0.018814126, 0.010750929, 0.008584697, 0.0332423, 0.00675276, 0.020539088, 0.032841146, 0.012114853, -0.0011374389, -0.0067293597, 0.012195083, -0.013371802, 0.017904844, -0.020044332, -0.039954945, 0.0038443932, 0.044715308, 0.018265883, 0.014655495, -0.0017784497, 0.000847438, 0.00032990743, 0.0066625006, 0.018760638, -0.026449425, -0.027372079, 0.010577096, -0.0070736837, 0.020432115, 0.011620096, -0.01942923, 0.031263273, 0.014000277, -0.008731787, 0.00028853843, -0.012616295, 0.01833274, -0.026984297, -0.012241885, 0.0012636353, -0.027331963, 0.0034031237, -0.013986905, -0.022357654, 0.00841755, 0.015163624, 0.04583854, 0.019415857, -0.0061878017, 0.006699273, 0.016728126, 0.00742135, -0.0024102675, 0.009587582, -0.015016534, -0.02061932, 0.026970925, 0.0018102077, -0.008130056, 0.0016990546, 0.008076569, 0.020164678, -0.0038143066, 0.009814903, -0.02588781, 0.007842562, 0.021194307, 0.013251456, -0.0032510194, -0.006879792, -0.009527409, -0.0013798028, 0.0015820514, 0.005475753, 0.012215141, -0.018225767, 0.010871275, 0.00034892047, -0.0275994, 0.0059437663, 0.009560838, -0.02263846, 0.020980358, -0.013906674, -0.0027947067, 0.010095711, 0.018747266, 0.02441691, -0.020900127, -0.017931586, -0.015257226, 0.0117605, -0.024430282, 0.024149476, -0.02285241], index=0, object='embedding')], model='text-embedding-ada-002-v2', object='list', usage=Usage(prompt_tokens=4, total_tokens=4))\n",
      "INFO:root:Query Vector: [0.0011098596, 0.0028799518, 0.0020759723, -0.02567386, -0.024564002, -0.005890279, -0.035435278, 0.0014224255, -0.007107113, -0.043190923, 0.029792376, 0.00637835, -0.027759861, 0.0013096009, 0.029150529, -0.0056195, 0.037146866, -0.0042890054, 0.0015812156, -0.017089164, -0.03629107, 0.0057565607, -0.027051156, 0.016594406, -0.010349775, -0.006044055, 0.01846646, -0.013137796, -0.0020843297, -0.0049074516, -0.0012235199, -0.021983244, -0.01973678, -0.0076754144, -0.024390167, -0.012014564, 0.013612495, 0.006565555, -0.01490956, 0.006351606, 0.02263846, 0.012823558, -0.009828275, -0.011620096, -0.022972757, 0.01164684, 0.0023133217, -0.032012094, -0.023186706, -0.00030086556, 0.021849524, 0.0117136985, -0.012295372, -0.030808633, -0.007100427, -0.0068129334, -0.0031657743, 0.0030470996, 0.011225628, 0.003911252, 0.00730769, 0.0051782303, -0.034392275, -0.0064485515, -0.01030966, -0.0041419156, -0.012422404, -3.3063872e-05, -0.036772456, -0.00047929553, 0.012629667, 0.00029898513, 0.0043157493, -0.0134520335, 0.020966986, -0.02055246, 0.008745159, -0.0046366723, -0.010557038, 0.019723408, 0.01208811, -0.0059337374, 0.010938134, 0.018934472, -0.0007759824, -0.010443377, -0.0059805387, 0.01068407, -0.015538034, 0.0033964377, 0.030835377, -0.010222743, 0.009179742, 0.022130333, 0.016046163, 0.03909915, -0.001592916, 0.042335127, 0.007053626, 0.0007672072, -0.01242909, 0.030594684, -0.016982188, -0.009193114, -0.00689985, -0.0012134911, 0.0008524524, -0.020338511, 0.03056794, 0.010550352, -0.024122732, 0.021943128, 0.008972479, -0.0121415965, 0.025807578, 0.019683292, 0.008798646, -0.004382608, -0.0021428312, -0.019937357, 0.024804693, 0.0014500049, 0.0057665897, 0.014428175, 0.012335488, -0.005679673, -0.014267713, -0.007875992, 0.013264828, -0.02701104, -0.005683016, 0.03511435, 0.0002507213, -0.00439598, 0.0014165753, 0.0045664706, -0.020900127, 0.022611719, -0.021421628, -0.016433945, -0.005074599, 0.029364478, -0.023547744, 0.0017985074, -0.005830106, 0.029364478, 0.022986129, -0.0028615657, -0.01109191, -0.010282916, 0.03449925, 0.038002662, 0.017851356, -0.0077422736, -0.005004397, 0.004469525, -0.007855934, 0.012108167, 0.011239, -0.018934472, 0.0063348915, 0.001436633, 0.024430282, -0.009019281, 0.017731009, 0.034231815, 0.021354768, 0.018453088, 0.0027027756, 0.01424097, -0.02003096, -0.004790448, -0.017022304, 0.024296565, -0.015912445, 0.013405232, -0.011419519, -0.0015745297, -0.016260112, 0.00042831554, 0.0013430304, -0.007301004, -0.003456611, 0.029257504, 0.000141762, -0.020378627, 0.006237946, -0.027184874, 0.008611441, -0.003797592, 0.00916637, 0.0052517755, -0.008444293, -0.019669922, -0.6807852, -0.016527548, 0.02076641, -0.011533179, 0.013117738, 0.013157854, 0.008083254, 0.0004955924, -0.030006325, 0.00916637, 0.025954667, -0.0031457164, -0.009600954, 0.021488486, -0.0074012927, -0.019402485, 0.005355407, -0.018158907, -0.037868943, 0.02322682, -0.01424097, 0.043913, -0.021047218, 0.020886755, 0.011379404, 0.015043277, 0.010557038, -0.010363147, -0.025165731, 0.013639239, -0.01906819, -0.000802726, 0.013365116, 0.014856072, 0.030353991, 0.020873383, -0.0051849163, 0.016661266, -0.031076068, 0.044019975, -0.025259335, -0.00047804194, 0.007026882, -0.020659436, 0.01676824, -0.011867475, 0.030407479, -0.020953614, 0.013231399, 0.024978526, -0.01884087, 0.013525578, -0.030247018, 0.008043139, 0.017517062, 0.0021545317, 0.0052584615, 0.00043082275, 0.0010630583, 0.02381518, -0.024403539, 0.002921739, -0.0063348915, -0.019857127, -0.0031005866, -0.0022865783, -0.017289741, 0.019710036, 0.012917161, -0.021234423, 6.654561e-05, 0.01980364, 0.016487433, -0.0070135104, 0.012963963, -0.006719331, 0.020712921, 0.007648671, -0.0019923986, -6.032981e-05, -0.03725384, -0.001420754, 0.0054022083, -0.012101481, 0.021996615, 0.00588025, 0.01654092, -0.02040537, 0.037895687, 0.022009987, 0.000267645, 0.013137796, 0.017035676, -0.020218166, -0.02032514, 0.018506574, 0.00054322946, -0.008524524, -0.007575126, 0.016273484, -0.0031691173, 0.015591522, -0.01461538, 0.00990182, 0.0051849163, -0.0022832353, -0.024777949, 0.012676469, 0.030353991, -0.02611513, 0.014495034, -0.044956, 0.0074948953, -0.0026576456, -0.02358786, -0.030862119, 0.030808633, -0.012415718, 0.011633468, -0.035863172, 0.0022798923, 0.00378422, 0.018560061, -0.017985074, -0.0057632467, 0.0061042276, -0.012027936, -0.020391999, 5.9807477e-05, 0.007835876, 0.0029852549, -6.518754e-05, -0.0079963375, -0.011031737, 0.024523886, -0.0075550685, -0.010797731, -0.012676469, 0.011105282, -0.03182489, -0.008056511, 0.013137796, 0.012629667, -0.012917161, -0.0058535063, -0.026529657, 0.0069800806, -0.0068731066, -0.016006047, 0.0091998, -0.018279254, -0.026609886, -0.014013649, 0.0055091823, -0.007628613, 0.0070201964, -0.0055158683, 0.0039580534, -0.029097041, -0.020873383, -0.003439896, 0.014160738, -0.031958606, -0.015297342, -0.009320146, -0.01593919, -0.0010028852, 0.014053764, -0.009707929, -0.019843755, 0.025687233, -0.003513441, -0.012903789, 0.016901959, 0.009540781, 0.03353648, 0.028963324, 0.015992675, -0.022478, -0.0008700029, -0.006973395, -0.0152037395, -0.014481662, 0.00010128096, 0.0027629486, -0.003383066, 0.0066491286, 0.028909836, -0.03169117, 0.025994783, -0.0143345725, 0.02834822, -0.008812018, 0.009480608, -0.0134587195, -0.0070669977, 0.014040393, 0.0057766186, 0.030166786, 0.025312822, 0.036611997, 0.015698496, 0.001898796, 0.02069955, -0.0026843892, -0.013311629, -0.0011140383, -0.03145048, 0.020806525, 0.03738756, 0.028588913, -0.023748321, -0.00378422, -0.013057565, 0.011245686, 0.03235976, -0.017102536, 0.0039580534, -0.007849248, 0.004392637, 0.008163486, -0.016942073, 0.008290517, -0.026021527, -0.0022147049, 0.0117136985, -0.0011474678, 0.028669145, -0.010008794, -0.023989012, -0.024457026, 0.011519807, -0.013224713, 0.010938134, -0.0011842402, 0.01179393, 0.0145618925, -0.0076754144, 0.009066082, -0.016260112, 0.0043759225, 0.024309937, 0.030300504, -0.0057131024, 0.024590744, -0.003080529, 0.02285241, 0.023253564, -0.01453515, 0.0057899905, 0.009353575, -0.00016286438, -0.03923287, -0.02032514, 0.0037541336, -0.042709537, 0.0075350106, -0.01712928, 0.0022915925, 0.008444293, 0.013619181, -0.001965655, 0.019790268, -0.018519945, 0.022825666, 0.01720951, -0.013084308, -0.017049048, 0.010690756, 6.910506e-05, 0.014882816, -0.017771125, -0.011158769, 0.0025088845, 0.03056794, 0.017557176, 0.0027596056, 0.001726634, 0.009600954, -0.0011407819, -0.010249486, -0.013077622, 0.0114796925, 0.007615241, -0.01587233, -0.011118653, -0.0013864888, -0.0051682014, 0.0075416965, 0.015029905, 0.0021511887, -0.009661127, -0.012502635, -0.025553515, -0.0011207241, -0.016219996, 0.03492715, 0.024283193, -0.029471453, -0.005833449, 0.001459198, 0.0108445315, -0.0050445125, -0.005662958, 0.027024413, 0.01958969, 0.014080508, -0.020646064, -0.007588498, -0.02011119, 0.020833269, -0.001452512, 0.0039613964, -0.020378627, 0.013124424, 0.0075283246, 0.010777673, 0.0014266041, 0.040516563, 0.0147758415, -0.0125962375, -0.021675691, 0.0010179285, 0.0055760415, 0.0748286, 0.006415122, 0.01668801, 0.027706375, -0.027920322, -0.024055872, -0.023106474, -0.0017483631, 0.013572379, 0.02233091, 0.008832076, 0.0033329218, -0.00053654355, -0.0038978804, 0.005866878, 0.0071606003, -0.020004217, -0.02003096, -0.0023333796, -0.033188812, 0.0037708483, -0.0047035315, 0.028588913, 0.023614602, -0.013251456, 0.0112657435, 0.02826799, -0.0025857722, 0.010209371, -0.01914842, 0.0011307531, -0.010430005, -0.012562809, 0.009132941, -0.0106238965, 0.022491371, 0.0036103867, 0.0084309215, 0.00841755, -0.0046901596, 0.0038978804, 0.025954667, 0.0020659436, -0.031798147, 0.019308882, -0.03580969, 0.0043424927, 0.002873266, -0.008511152, 0.014454918, -0.0068029044, 0.00081400847, -0.023093102, -0.01654092, 0.020646064, 0.01639383, -0.010316346, 0.014294457, -0.0035000693, -0.023066359, -0.025366308, -0.004389294, 0.0005052034, -0.010222743, 0.005749875, -0.035595737, -0.0056495867, -0.01942923, -0.006769475, 0.014361315, -0.001962312, -0.01765078, -0.023534372, -0.02663663, 0.025553515, -0.0163136, 0.009473922, -0.0063917213, 0.0023266936, 0.011178827, 0.011118653, -0.013518892, -0.0021261165, 0.012114853, -0.020712921, -0.0048372494, -0.011506435, 0.005806705, 0.010911391, 0.015564778, -0.0043358067, 0.004937538, 0.005014426, -0.025727348, 0.0024453683, 0.02055246, -0.014160738, 0.02130128, -0.023694834, 0.0077222157, 0.005662958, -0.012255257, -0.005348721, -0.007789075, -0.005134772, 0.008109998, 0.0057431892, 0.011152083, 0.016875215, -0.014642123, -0.008230344, -0.031102812, 0.009360261, 0.02381518, 0.017410086, 0.011981135, -0.002376838, 0.011733756, -0.032707427, 0.013077622, -0.00014479154, -0.016581034, 0.0001615063, 0.023788437, -0.01476247, -0.020726293, 0.022678576, -0.011111968, -0.005953795, -0.015992675, 0.0013864888, -0.008979165, -0.009995422, -0.0102428, -0.022103589, -0.0018503232, -0.017450202, 0.008537896, -0.014267713, 0.006960023, 0.0016982189, -0.015390945, -0.002739548, -0.011941019, 0.013411918, -0.040890973, -0.017182766, 0.009106197, -0.0079762805, 0.037360817, -0.0042188037, 0.0032543624, -0.023882039, -0.021635577, -0.002493841, -0.009092825, -0.0054456666, -0.022531487, 0.031209787, 0.026075015, 0.02151523, 0.0026843892, 0.001860352, 0.014000277, 0.004198746, -0.010463435, 0.009206486, -0.010577096, -0.0052216887, 0.0152037395, -0.0024269822, -0.00658227, 0.012495949, 0.007875992, 0.019001331, -0.008691671, 0.008243716, 0.004619958, -0.035488762, -0.021555346, 0.011312544, 0.00051272503, -0.0059337374, -0.011312544, -0.02086001, -0.019268768, -0.02485818, -0.025125617, -0.0011691969, 0.002335051, 0.020311767, -0.003341279, 0.022946013, -0.0055626696, 0.019576319, 0.010523609, -0.018613549, -0.015217111, -0.0025874437, 0.028107528, -0.011526493, 0.023427397, -0.006766132, -0.0013781313, -0.018038562, 0.0049709673, -0.034392275, -0.0016873543, 0.0043057203, 0.007033568, 0.0029518253, -0.017089164, -0.0296854, -0.005532583, -0.0038410502, 0.008150114, -0.030247018, 0.0076018698, 0.004476211, -0.01958969, 0.0114796925, -0.002022485, 0.0014291113, 0.010042223, 0.035034124, 0.01394679, 0.013813072, -0.02944471, -0.0027947067, 0.0030922294, -0.0031373592, 0.028802862, 0.014307829, 0.0070736837, -0.03225279, 0.011379404, 0.004422724, -0.03399112, -0.027104644, 0.014655495, 0.02567386, -0.015952561, -0.0036337874, -0.0077222157, -0.0013321658, 0.013492148, -0.013418604, -0.003459954, -0.013431976, -0.013057565, 0.0017834641, 0.008009709, -0.01617988, 0.012502635, -0.0066424427, -0.035649225, -0.02410936, -0.008517838, -0.009600954, 0.015685124, 0.001541936, 0.027545912, -0.008056511, 0.0154310595, -0.004967625, 0.0032259473, -0.0024470398, 0.00015816336, 0.009834961, 0.023654718, -0.012114853, -0.028695887, 0.023093102, -0.006217888, -0.01676824, -0.00087836024, -0.00073001685, -0.018239139, -0.010824474, -0.0071338564, 0.023347167, 0.009614326, -0.0032058896, 0.010851217, 0.0004437767, -0.00990182, -0.010590468, 0.0074012927, 0.039446816, 0.0022063474, -0.0011065167, -0.0015335786, 0.010791045, 0.016447317, 0.014040393, 0.0073210616, 0.00890562, 0.020498972, -0.004108486, 0.0026359165, 0.0057298173, 0.008992537, -0.011366032, 0.0064819814, -0.01743683, -0.026422681, 0.030701658, 0.003098915, -0.039954945, 0.0039747683, 0.0059471093, -0.004673445, -0.008063197, 0.01016257, -0.008337319, 0.02017805, 0.0060540834, 0.0034833546, -0.004065028, -0.0001095861, 0.013772956, 0.0065220967, 0.018132163, -0.04415369, 0.00029961194, -0.0025155703, -0.0028247933, -0.0007137199, 0.001366431, -0.016514177, 0.0038377072, 0.013672668, -0.012308744, -0.025245963, 0.0013279871, 0.009941935, -0.0037340757, 0.03487366, 0.0070603117, -0.0074948953, -0.027572656, 0.023280308, 0.033803917, 0.010523609, 0.0036973034, 0.0022314196, -0.021194307, -0.008150114, 0.0021160878, -0.024898296, -0.03145048, 0.026048271, 0.006090856, -0.01202125, -0.0342853, -0.004934195, -0.026596515, -0.012977334, 0.0052551185, 0.0036739027, 0.0043090633, 0.034820173, -0.01884087, 0.013986905, 0.013378488, 0.01928214, -0.023882039, -0.004416038, -0.0019455972, -0.010857903, -0.011513121, 0.006953337, -0.039152637, 0.014414803, 0.032600455, -9.59009e-05, 0.042495586, 0.019897241, -0.010938134, 0.0076754144, -0.0009727986, 0.0125895515, -0.008310575, 0.017690895, 0.011152083, -0.028776119, 0.008069883, -0.0130241355, 0.0027445625, -0.028428452, 0.0031239872, 0.0019071533, 0.00029459753, -0.0076687285, -0.010483493, -0.012917161, 0.0057197884, -0.002637588, 0.0057565607, 0.007615241, -0.004068371, -0.0041519445, 0.016955445, -0.00069366227, -0.0035535565, -0.010697442, -0.01268984, -0.0048740217, 0.013258142, -0.025914554, 0.017450202, -0.002844851, 0.008063197, -0.009687871, -0.0112724295, -0.0037775342, 0.0032677343, 0.0060641123, 0.001723291, -0.0042154607, -0.02188964, 0.02202336, -0.010329718, 0.0013898317, -0.006385036, -0.006966709, 0.0010889661, 0.01172707, -0.01639383, 0.039794482, -0.008678299, -0.009487294, -0.0019288824, 0.0059103365, -0.008297203, 0.0037675053, 0.20260955, -0.016888587, 0.0036872744, 0.015096765, 0.0047068745, 0.016581034, 0.0022982785, -0.010797731, -0.0037708483, 0.0010664013, 0.0016255097, 0.0070669977, -0.015337457, 0.01350552, -0.018880986, -0.014642123, -0.032038838, 0.0048940796, -0.0065087248, -0.0007066162, -0.007789075, 0.0015352501, 0.004278977, -0.008885562, 0.0075149527, -0.0028866378, 0.006221231, 0.0034900403, 0.013732841, 0.0168351, -0.0064719524, -0.005863535, -0.0003271913, 0.0041686594, -0.0011984478, -0.0136793535, -0.018199023, -0.013973533, 0.028455196, 0.031717915, 0.013204655, 0.007434722, -0.006742731, -0.025794206, 0.018519945, 0.0088588195, 0.00027955425, -0.018880986, -0.015751984, 0.019603062, -0.030086555, 0.016153138, 0.020659436, 0.03286789, -0.02479132, -0.0033596654, -0.004476211, 0.0049709673, -0.0154310595, 0.0019472687, 0.016487433, 0.013398546, -0.028749375, 0.03375043, -0.015043277, 0.03056794, -0.0051916023, -0.004235518, -4.2805437e-05, -0.004663416, 0.0015252212, -0.014013649, 0.002729519, -0.010931448, -0.007875992, -0.0032092326, 0.016607778, 0.029631915, 0.022611719, 0.012261943, -0.023280308, 0.006545497, -0.023534372, -0.009580896, -0.00083531975, -0.027920322, 0.019201908, -0.0148427, -0.023307052, -0.021328025, -0.0054356377, -0.007033568, -0.040249124, -0.024577372, 0.0043124063, 0.0077489596, 0.022584975, 0.02931099, -0.0066591576, 0.011332602, 0.0066223852, 0.048138488, 0.010851217, 0.014080508, -0.0014633766, -0.0015553078, -0.018961215, 0.032653943, -0.006568898, -0.01409388, 0.0052384036, -0.0183996, 0.015016534, -0.029043555, -0.0005043677, 0.015337457, -0.010563724, 0.014013649, 0.0018319369, -0.018199023, -0.0037039893, -0.04006192, -0.007501581, 0.0071940296, 0.016754868, -0.012656411, -0.011967763, -0.0073411195, 0.0014909559, -0.016072907, 0.028134272, -0.016340343, -0.0008202765, -0.021087332, -0.035943404, 0.00637835, 0.017450202, 0.008885562, -0.0048272205, 0.012549437, -0.019228652, 0.027492426, -0.020605948, 0.0012937218, 0.00990182, -0.020498972, 0.02722499, 0.0038042779, -0.015979303, -0.019041447, -0.024350053, -0.019228652, 0.00067485817, -0.037441045, 0.0128035005, -0.011285801, -0.011025051, -0.04048982, 0.027265105, 0.008491094, -0.028883094, -0.0066758725, 0.01795833, -0.019469345, -0.0066190423, 0.0061008846, -0.17190789, 0.008745159, -0.0093067745, 0.006164401, 0.0044929255, 0.0032660628, 0.0006606506, -0.016300227, 0.00229995, 0.008056511, 0.029257504, -0.0367992, -0.008611441, 0.0032643913, 0.027024413, 0.006772818, -0.0025406424, 0.02893658, 0.0017082477, 0.01921528, 0.046400156, 0.020793153, 0.002806407, -0.017049048, 0.0027278478, -0.00035289023, -0.033563223, 0.016086278, -0.00916637, -0.025566885, -0.028401708, 0.009360261, 0.0033914233, 0.028829606, 0.019442601, 3.2149783e-05, 0.0031106155, -0.0077489596, 0.014133995, 0.0016890258, 0.017690895, 0.031423736, -0.0183996, -0.0016012733, -0.0023183362, -0.004807163, 0.017075792, 0.007882677, 0.006682558, -0.010336403, 0.02011119, -0.021221051, -0.020258281, -0.0071806577, 0.026904067, 0.0014583622, 8.858819e-05, -0.004442781, -0.006960023, -0.01952283, 0.0014474976, -0.033964377, -0.008337319, -0.026797092, 0.001723291, 0.007962909, 0.022531487, 0.0011967763, -0.025192475, 0.004456153, 0.0026960897, -0.014508406, 0.002742891, 0.0003382648, -0.0034866976, -0.006000596, -0.021341396, 0.0059203655, 0.0019907271, 0.008745159, 0.008798646, 0.036210842, -0.012957277, 0.0059671667, 0.024577372, 0.020285023, 0.011078538, 0.013485462, 0.018292626, -0.004726932, 0.0034699827, -0.006836334, 0.016286856, -0.0010137497, 0.0035769572, 0.013552322, -0.006542154, -0.024844809, 0.0045129834, -0.0011006665, 0.0034866976, 0.017196137, -0.008404178, 0.020686178, 0.017035676, 0.0044260668, 0.012750014, 0.009286717, 0.027947066, -0.003456611, -0.05223026, 0.0022564917, 0.023748321, 0.037066635, 0.009427121, 0.025032014, 0.00931346, -0.026222104, 0.017517062, -0.01958969, 0.06402419, -0.009855018, -0.024871552, 0.010262858, -0.01528397, -0.00017195303, -0.104139596, -0.021167563, 0.002777992, 0.0032694056, 0.017156022, 0.026222104, 0.010851217, 0.013652611, 0.007929479, 0.016968817, -0.01921528, -0.03955379, -0.020525716, -0.017704267, -0.007835876, -0.016955445, -0.00086415274, -0.005863535, 0.02226405, 0.023159962, -0.028990068, -0.023922155, -0.015511291, -0.011740442, -0.028909836, -0.00093602616, -0.02061932, 0.0039881403, 0.0059270514, 0.010483493, 0.0019238681, -0.02061932, -0.014040393, -0.009614326, 0.016260112, 0.00016390905, -0.031076068, -0.013411918, 0.023948899, -0.008243716, 0.009139627, 0.026315708, 0.020726293, -0.013070937, 0.014829329, -0.021595461, -0.015324085, 0.0017700923, 0.021127447, -0.01513688, -0.019348998, -0.01712928, -0.013632553, -0.009032653, 0.025954667, -0.023320423, -0.012729956, 0.002736205, -0.009266659, -0.016139766, -0.014307829, 0.009092825, -0.038697995, 0.030915607, 0.006371664, -0.0059404233, -0.035435278, 0.002838165, 0.031477224, -0.0066625006, -0.032653943, 0.017837984, -0.017222881, -0.0053086057, -0.03375043, -0.0052317176, -0.03511435, 0.019616434, 0.011693642, -0.0103965765, 0.0026676746, -0.022063473, -0.0068530487, -0.016754868, 0.028080786, -0.0042288327, 0.003794249, -0.006227917, -0.013518892, -0.01942923, 0.009380319, 0.021180935, 0.030995838, -0.008892248, -0.007441408, 0.005876907, -0.015992675, -0.026476169, 0.033563223, 0.0027245048, 0.010750929, -0.0012151626, -0.051829107, 0.011158769, -0.012783443, -0.010530294, 0.011947705, -0.00634492, 0.025326194, -0.033135325, 0.00311563, 0.014695611, -0.0149897905, 0.025647117, 0.003249348, -0.009534095, -0.013157854, -0.011981135, 0.011941019, 0.018412972, 0.008604755, 0.010470121, -0.009400377, -0.024309937, 0.009848332, 0.015551406, 0.011686956, 0.014521778, -0.009106197, 0.014428175, -0.02263846, 0.0004571485, 0.0073879207, -0.014749098, -0.002366809, 0.021996615, 0.0016338672, 0.008932364, 0.0006092527, 0.017570548, 0.027866837, -0.0025021986, -0.033937633, -0.033028353, -0.007240831, -0.027265105, -0.02233091, -0.02619536, 7.658752e-06, 0.015965931, 0.020672806, 0.0033496364, 0.021180935, 0.02715813, -0.006829648, -0.016326971, -0.01453515, -0.00890562, 0.004466182, -0.014441547, 0.011152083, -0.023200078, 0.031477224, 0.01758392, -0.010617211, -0.0125761805, 0.012108167, -0.009881762, -0.031958606, 0.008765216, 0.022892525, -0.05594762, 0.0017383343, -0.025045386, -0.020271651, -0.0031290017, 0.015604894, -0.011018365, 0.019496087, -0.03500738, -0.020298395, 0.013271513, 0.025794206, -0.002229748, -0.037788715, 0.0044327523, 0.031076068, 0.012201769, 0.0023266936, 0.030728402, -0.026155245, 0.006411779, -0.014080508, 0.0041786884, -0.009213172, -0.018814126, 0.010750929, 0.008584697, 0.0332423, 0.00675276, 0.020539088, 0.032841146, 0.012114853, -0.0011374389, -0.0067293597, 0.012195083, -0.013371802, 0.017904844, -0.020044332, -0.039954945, 0.0038443932, 0.044715308, 0.018265883, 0.014655495, -0.0017784497, 0.000847438, 0.00032990743, 0.0066625006, 0.018760638, -0.026449425, -0.027372079, 0.010577096, -0.0070736837, 0.020432115, 0.011620096, -0.01942923, 0.031263273, 0.014000277, -0.008731787, 0.00028853843, -0.012616295, 0.01833274, -0.026984297, -0.012241885, 0.0012636353, -0.027331963, 0.0034031237, -0.013986905, -0.022357654, 0.00841755, 0.015163624, 0.04583854, 0.019415857, -0.0061878017, 0.006699273, 0.016728126, 0.00742135, -0.0024102675, 0.009587582, -0.015016534, -0.02061932, 0.026970925, 0.0018102077, -0.008130056, 0.0016990546, 0.008076569, 0.020164678, -0.0038143066, 0.009814903, -0.02588781, 0.007842562, 0.021194307, 0.013251456, -0.0032510194, -0.006879792, -0.009527409, -0.0013798028, 0.0015820514, 0.005475753, 0.012215141, -0.018225767, 0.010871275, 0.00034892047, -0.0275994, 0.0059437663, 0.009560838, -0.02263846, 0.020980358, -0.013906674, -0.0027947067, 0.010095711, 0.018747266, 0.02441691, -0.020900127, -0.017931586, -0.015257226, 0.0117605, -0.024430282, 0.024149476, -0.02285241]\n",
      "INFO:elastic_transport.transport:POST http://localhost:9200/qa_data/_search [status:200 duration:0.231s]\n"
     ]
    },
    {
     "name": "stdout",
     "output_type": "stream",
     "text": [
      "INFO:     127.0.0.1:15637 - \"POST /ask/ HTTP/1.1\" 200 OK\n"
     ]
    },
    {
     "name": "stderr",
     "output_type": "stream",
     "text": [
      "INFO:root:Query: What is ML?\n",
      "INFO:httpx:HTTP Request: POST https://api.openai.com/v1/embeddings \"HTTP/1.1 200 OK\"\n",
      "INFO:root:Embedding Response: CreateEmbeddingResponse(data=[Embedding(embedding=[-0.006487228, -0.0061319023, -0.008791768, -0.018625824, -0.020371994, -3.9260294e-06, -0.008128493, 0.019383851, -0.005180984, -0.023431176, 0.014754468, 0.033407364, -0.02431103, 0.0023772966, 0.0017529391, 0.0030084224, 0.024175668, -0.008480434, 0.019275561, -0.00646354, -0.004805354, 0.007404306, -0.012236733, -0.03614168, 0.0128593985, 0.0067105754, -0.0054043313, -0.035925098, -0.014551424, 0.014321309, 0.03132279, -0.010544706, -0.0082435515, -0.011627603, -0.017326348, -0.013583586, 0.023864336, 0.0013037061, -0.004798586, -0.012081066, 0.02845311, 0.014050584, -0.004937332, -0.024730653, -0.015336525, 0.009245231, 0.0019678264, -0.0057427366, -0.009773143, 0.003634472, 0.028967487, 0.0026040282, 0.004355275, -0.021576717, 0.0020507355, -0.010131852, -0.008669942, 0.0017850875, 0.019113127, -0.008920361, 0.0024500538, 0.014118265, -0.022118164, 0.0004217375, 0.010849271, 0.012365326, -0.015580176, 0.029590152, 0.0029475095, -0.021143558, 0.006690271, 0.021008195, 0.008541347, -0.0020084349, 0.03370516, -0.0061725113, -0.010896648, -0.02592184, 0.00778332, 0.003103176, 0.005120071, 0.008669942, -0.004544782, 0.0043620435, -0.006182663, -0.017448174, -0.0028950567, 0.0019948988, -0.008419522, 0.0043857316, -0.012608978, -0.0107342135, 0.033975884, 0.011776501, -0.009942345, 0.012020153, 0.012981224, 0.007966059, 0.015688466, -0.01595919, -0.012378863, 0.0036513922, -0.029536007, -0.00778332, -0.011952472, -0.0076953345, -0.0012588674, 0.0033349835, 0.023891408, 0.0030744113, -0.009861128, 0.021211239, 0.019410923, -0.0477016, 0.0016015026, -0.009705462, -0.00039128104, -0.025434537, -0.0030777955, -0.0104431845, 0.033759303, 0.027153635, 0.012839094, -0.0025211188, 0.019722257, -0.012229964, -0.00996265, -0.01681197, -0.027857518, 0.0018747649, 0.04737673, 0.008216479, -0.016960869, 0.013597121, 0.00020558116, 0.021901585, 0.0013798473, -0.0012470232, -0.019465068, -0.00067173433, 0.0038205949, 0.014632641, 0.008114957, -0.0025549594, -0.025434537, 0.0029035169, 0.0058070337, 0.010625924, 0.002715702, -0.015295916, -0.010544706, -0.028263604, 0.0023942168, 0.022483643, 0.015877973, 0.015160554, 0.00057317386, 0.008460131, -0.014605569, -0.008812072, -0.008642869, -0.00608791, 0.022998018, 0.0059999246, -0.002456822, 0.041962247, 0.027261924, 0.011722357, -0.009001579, 0.016405884, 0.0142807, 0.027288998, -0.02431103, 0.016094552, -0.002069348, 0.0037495298, -0.0004995707, -0.008473666, -0.009204622, -0.0008109035, -0.018273883, 0.0051674475, -0.002011819, -0.0011395796, -0.014240092, 0.003170857, -0.0043654274, -0.029481862, 0.0007017678, -0.014483743, 0.018165592, 0.019871155, -0.014009976, -0.0025228108, -0.6618665, -0.029725514, -0.007769784, 0.009529491, -0.0006543911, 0.01010478, 0.01010478, -0.0044500288, -0.0011091231, 0.012778181, 0.0041556163, 0.020642718, -0.009258767, -0.018003158, 0.014064121, -0.033786375, -0.0006856936, -0.043721955, -0.017272202, 0.0078036245, -0.032622263, 0.004727521, 0.002668325, -0.0024466696, -0.038334545, -0.00094499654, 0.02470358, 0.008405985, -0.01456496, -0.0048831874, -0.022930337, 0.00054737047, 0.0050862306, -0.023688365, 0.023160454, -0.018761186, -0.009306143, 0.034409042, 0.0072418717, 0.01770536, -0.022632541, 0.0062368084, -0.0017343267, -0.0053434186, -0.0068459376, 0.010233373, 0.020547966, 0.027695082, 0.0076005813, 0.0073163207, -0.014497279, 0.016541246, -0.017908404, -0.0118374145, -0.0064432356, 0.022212919, 0.014348381, -0.0095633315, 0.007729175, -0.0065176846, -0.012006617, 0.007796856, -0.027695082, 0.005651367, -0.0006053223, -0.022009876, 0.00015408013, 0.014984583, 0.00093738246, -0.0230657, 0.015147017, 0.019465068, 0.013509137, -0.007830697, 0.014984583, 0.023431176, 0.013915222, 0.017272202, 0.024757726, -0.0134956, 0.0041251597, -0.022077557, -0.008297696, -0.012751109, 0.017190985, -0.0074922913, 0.007871306, -0.01635174, 0.011952472, 0.008236783, 0.0055464613, 0.025136739, -0.00091284805, -0.053197302, -0.02888627, 0.014903366, -0.008419522, 0.013536208, -0.010517634, -0.023431176, -0.01613516, 0.004416188, 0.03974231, 0.013482064, 0.014172411, -0.003182701, -0.012798485, 0.017976085, 0.01981701, -0.036304113, 0.009752838, 0.018111447, -0.0158509, 0.010382272, 0.0069711474, -0.022402426, -0.003952573, 0.0006691963, 0.0028781365, -0.026625723, 0.029319428, 0.006950843, 0.04028376, 0.010761286, -0.026043665, -0.004145464, -1.5677679e-05, -0.024838943, -0.0079525225, 0.022876192, -0.0074110744, 3.4210654e-05, 0.01624345, -0.01388815, 0.013360238, 0.01545835, 0.034788057, -0.011160604, 0.012575137, 0.010334895, -0.021251848, -0.0068425536, 0.008805304, 0.00087393145, -0.02742436, -0.033326145, -0.006768104, -0.008209711, 0.004727521, -0.014185946, -0.011607299, -0.016757827, -0.010849271, 0.022686686, 0.00031619737, -0.0020067429, -0.021657934, -0.012453312, -0.030429397, -0.031755947, -0.028994558, 0.008216479, -0.0011438096, -0.0007339163, 0.009705462, -0.01888301, 0.0038104428, 0.029156994, -0.015025192, -0.025542825, 0.026179027, -0.011431328, -0.00739077, 0.008588725, -0.022212919, 0.0060506854, 0.011370415, -0.0030744113, -0.0008806996, -0.018003158, 0.0022402424, 0.025624042, 0.01949214, 0.011038778, -0.008209711, 0.018517533, 0.0138137005, 0.015661394, -0.011823879, 0.005526157, 0.0065176846, 0.033948813, -0.006152207, -0.009373824, 0.014700322, 0.0061894315, -0.011262125, -0.00039212705, 0.017339883, 0.014091194, -0.010301054, 0.019451533, 0.0077630156, 0.013746019, 0.01021307, -0.027234852, -0.00023032704, -0.03681849, 0.018747648, 0.0090489555, 0.015580176, -0.011478705, -0.0017969317, -0.018693505, 0.009624245, 0.013746019, 0.0004230065, 0.011214749, -0.021793297, 0.0055464613, 0.0065007643, -0.0065819817, -0.003509262, -0.01735342, 0.009184318, 0.009130172, -0.00048434245, 0.011499009, -0.01589151, -0.041068856, -0.015877973, -0.002211478, 0.028344821, -0.0026463289, 0.0066496627, 0.013048905, 0.016757827, -0.00049068755, 0.025339782, -0.03795553, -0.007966059, 0.006250344, 0.014307773, 0.0009864512, 0.036791414, -0.010510866, 0.030997917, 0.010625924, 0.007404306, 0.005769809, -0.032730553, -0.0045075575, -0.0025515754, 0.0015744303, -0.008399217, -0.017204521, -0.005258817, -0.02609781, -0.0019932068, 0.000842629, 0.0082435515, 0.0039897976, 0.014429598, -0.023796655, 0.0068933144, -0.014943974, 0.009103101, -0.0026344846, 0.023945553, -0.0103687355, -0.015932119, -0.008378914, 0.005644599, -0.027045345, 0.020737471, 0.0019136815, 0.03492342, 0.0072892485, 0.011573458, 0.0097122295, -0.015011655, -0.046185546, 0.014267164, 0.022226455, -0.023295816, -0.012480385, -0.041177146, 0.014402526, -0.026192565, -0.0043214345, 0.0069914516, -0.0030354948, 8.079425e-05, -0.008202942, 0.0020947284, -0.0071268138, 0.024040306, -0.006812097, -0.0061488226, -0.0028003033, -0.009373824, 0.025867695, 0.0061251344, -0.025272101, 0.020764545, 0.007871306, 0.008148798, -0.014903366, 0.0025431153, -0.024662971, -0.017651215, -0.0077427113, 0.0047173686, 0.012764645, 0.007004988, 0.016202841, 0.03067305, 0.010666532, -0.0032943748, 0.014321309, -0.00390858, -0.038388688, 0.006680119, 0.0063180253, 0.06827664, 0.009874664, -0.008595493, 0.012947383, -0.03727872, -0.0049677887, -0.01628406, -0.0067816405, 0.0049982453, 0.009982954, -0.017380493, 0.023390569, 0.0015363597, 0.002724162, 0.017407564, 0.020899907, 0.0030642592, -0.02755972, -0.02106234, -0.0005118379, 0.02295741, -0.011025242, 0.018734112, 0.02467651, -0.030050384, -0.015945654, -0.009055723, -0.014240092, -0.010903416, -0.025705261, 0.01842278, 0.010287519, -0.0065210685, -0.0037224574, 0.006493996, 0.03413832, 0.0046259994, -0.005323114, 0.0073027844, -0.004940716, 0.031431075, 0.017786577, -0.008927129, -0.0037732183, -6.984895e-05, -0.017976085, -0.011052314, 0.030321108, -0.0039694933, -0.008649637, 0.016013335, 0.010625924, -0.050869074, -0.001751247, 0.014849221, 0.012189356, -0.0009534567, -0.0029508935, 0.004216529, -0.025190884, -0.024514074, -0.01589151, 0.0064669237, 0.0016624157, 0.009062491, -0.015322988, -0.0030388788, 0.0043146666, -0.023431176, 0.0062131197, -0.016094552, -0.018057302, -0.032513972, 0.0009221542, 6.255209e-05, 0.0066868872, 0.018896548, -0.011025242, -0.019803474, 0.039038427, -0.021360137, 0.0078780735, -0.000421526, -0.020872833, -0.006744416, -0.0016251911, -0.0039255004, 0.01556664, -0.006023613, 0.009894969, -0.011438096, -0.004612463, 0.013367006, -0.0021691774, -0.012683428, 0.02020956, -0.0017580151, 0.035356577, -0.009651316, -0.00077621697, 0.00026184105, -0.040067177, -0.031539366, -0.011417792, -0.00051014585, 0.016636001, 0.011600531, 0.013218108, 0.007580277, 0.016365277, -0.0014069197, -0.02424335, 0.027722156, -0.001099817, 0.0066530467, 0.025041986, 0.029536007, 0.024541147, -0.003444965, -0.012006617, -0.0021065725, -0.045346297, 0.009143709, 0.02378312, 8.174601e-05, -0.003045647, 0.015661394, -0.0012859398, 0.0027461583, -0.0059423954, 0.01189156, 0.041935176, -0.018476924, 0.011810342, -0.029238211, -0.0048933392, -0.009130172, 0.033001278, -0.019573357, -0.010307823, 0.011790038, 0.015620785, -0.0078036245, -0.018734112, 0.0018764569, -0.0222806, -0.018179128, 0.02788459, -0.026517432, 0.034219537, -0.012162283, 0.028588472, -0.03505878, -0.034652695, -0.009441505, 0.019126663, -0.0060066925, -0.007938987, 0.04994861, 0.019437995, 0.032730553, -0.0089745065, 0.024148596, -0.008656406, -0.009164013, -0.0040134857, -0.0031065599, 0.0053569544, 0.00016042522, 0.0019948988, 0.02977966, 0.0011768042, 0.0414208, 0.00623004, -0.008886521, 0.0082435515, 0.0069846837, -0.0013874614, -0.025258565, -0.029698443, 0.012060762, 0.01488983, 0.0063383295, 0.027329605, -0.015580176, -0.01078159, 0.04066277, 0.0059187072, -0.012629283, 0.0019999747, 0.028805053, -0.018152056, 0.021657934, 0.0008265547, 0.009935577, -0.013130123, 0.0083180005, -0.009840824, -0.013021832, 0.009360288, 0.0045583183, 0.012940615, 0.0067173433, -0.003631088, -0.02788459, -0.014172411, -0.027288998, -0.009251999, -0.0053468025, -0.026327927, 0.0016404192, -0.0139558315, -0.03102499, -0.03367809, 0.029887948, 0.019437995, 0.0014965971, 0.026463289, -0.028209459, -0.020236632, 0.049894467, 0.03126864, 0.028182387, 0.0012377171, 0.03795553, -0.00221317, 0.01081543, -0.014578497, 0.020832226, 0.0020896522, 0.0022436266, 0.025421, 0.02156318, -0.0142807, -0.014524352, 0.006859474, -0.009245231, 0.009908505, -0.02016895, 0.029536007, 0.004236833, -0.011119995, -0.0035329505, -0.015512495, -0.015607249, 0.037224572, -0.0022351665, -0.0033282153, -0.0083180005, 0.0001648668, -0.0021657934, 0.017718896, 0.0054889326, -0.01563432, -0.011966009, -0.0007982133, 0.0039762612, -0.003181009, -0.003302835, -0.0089000575, -0.018612286, 0.03367809, -0.0043823477, 0.0056615192, -0.0047613615, 0.009191086, -0.014971047, -0.011715588, 0.014158874, 0.032649335, -0.016216379, 0.016690146, -0.014307773, -0.00996265, 0.008439826, -0.002334996, -0.004165768, -0.017272202, -0.008094653, -0.02038553, 0.03145815, 0.0047410573, -0.029752586, 0.0032351539, -0.021617325, -0.017326348, -0.007823928, -0.012378863, 0.03132279, -0.025393927, -0.014172411, -0.012114907, -0.011553154, 0.019397387, 0.0045109414, -0.012839094, 0.004730905, 0.009732534, -0.01863936, 0.005438172, 0.0139558315, -0.005705512, 0.001884917, 0.005130223, 0.011573458, -0.033434436, 0.00881884, -0.013454991, -0.02705888, -0.021116486, -0.0026412527, -0.021130022, -0.0213466, -0.03270348, 0.0064669237, 0.0013485448, 0.0067985607, -5.4990847e-05, 0.0019729023, 0.026923519, -0.023756046, 0.003962725, 0.013800165, 0.0022571627, -0.0032520741, 0.004825658, 0.0058205696, -0.0004809584, -0.030862555, 0.009813751, -0.0065176846, 0.022551324, -0.011356879, 0.016717218, -0.0012808638, -0.0017597071, -0.013874614, -0.00885268, -0.009407665, -0.016040407, 0.0055430774, 0.009509186, 0.018436316, 0.010030331, -0.025759405, -0.01970872, -0.008128493, -0.005908555, -0.025177348, -0.028750908, -0.03909257, 0.030943774, -0.0069102347, -0.014375454, -0.02406738, -0.0033772842, -0.023160454, -0.012622515, 0.010517634, -0.014361917, 0.0005279121, 0.038659412, -0.0104431845, 0.025123203, 0.011052314, -0.0027427743, 0.0062638805, 0.017434636, -0.014064121, -0.0061285184, 0.029617224, 0.0007182651, -0.007722407, -0.012189356, -0.0023739126, -0.019370314, 0.008399217, 0.032053743, 0.0037732183, -0.022700222, -0.006741032, 0.01896423, 0.012913543, 0.018910084, -0.0017064083, -0.0066631986, -0.010192765, 0.008385682, 0.013874614, -0.0038645875, 0.007986363, 0.010483794, -0.0063789384, 0.0033282153, 0.004521094, -0.015106409, 0.006862858, -0.013312861, 0.016730754, 0.007275712, 0.0100777075, 0.008372145, -0.0031928532, 0.0074381465, 0.0056107584, -0.00073137827, -0.016622465, -0.024283959, 0.018409245, -0.007133582, -0.006676735, 0.007208031, 0.014659714, 0.012108139, -0.021373674, 0.004334971, 0.0004276596, -0.03023989, -0.00029589306, -0.022794975, -0.03844283, -0.0047647455, 0.002470358, -0.012879702, -0.00050295476, -0.0043721953, 0.019898226, 0.0054787803, 0.0048324266, 0.030808412, -0.008981274, -0.009502418, -0.00035405645, 0.007702103, -0.0028781365, 0.008717318, 0.2170125, -0.013407615, -0.00020589842, 0.022036947, -0.011187676, 0.009800215, 0.023011554, -0.0030964077, -0.0012817098, 0.020223096, 0.032405682, 0.0019745945, -0.01792194, 0.012845862, 0.0052283606, -0.0032673024, -0.017962549, -0.028588472, 0.007072669, -0.025867695, -0.0018510765, 0.02496077, -0.014456671, -0.03662898, 0.0034601933, 0.006179279, 0.0071132774, -0.0052148243, -0.0069203866, 0.009455042, 0.0023197678, 0.025610507, -0.001493213, 0.0020219712, -0.0013045521, -0.00814203, -0.0008299388, -0.024893088, 0.010720678, 0.042720273, 0.027356679, -0.0022436266, 0.0028239915, 0.010375504, 0.006206352, 0.009732534, -0.02138721, -0.012385631, 0.0032486902, 0.017015014, -0.010524402, 0.015810292, 0.012040458, 0.038578194, 0.012913543, -0.012101371, -0.004873035, 0.011553154, 0.005969468, 0.006937307, -0.0118374145, 0.00233838, -0.011979545, 0.0343549, -0.009055723, 0.018341564, -0.04567117, 0.0046327673, -0.007587045, -0.011898328, -0.011383952, -0.0062875687, 0.0059830043, -0.024270423, -0.02345825, -0.0026226405, 0.028317748, 0.029644297, 0.01235179, 0.011113227, -0.033082493, -0.036547765, -0.009570099, -0.015485423, -0.026233172, -0.00195429, 0.00054271735, -0.013732484, -0.016108088, -0.002267315, 0.002668325, -0.031214498, -0.0046361513, -0.0017072543, -0.00569536, 0.025664652, 0.012764645, 0.011465169, -0.004406036, -0.0042537535, -0.042368334, 0.03416539, 0.028398966, 0.005715664, -0.009441505, 0.020114806, 0.011106459, 0.0014060737, -0.0074990597, -0.014402526, -0.02016895, -0.046618704, 0.01763768, -0.0039694933, -0.0183551, -0.01399644, -0.0012165668, -0.02274083, 0.02552929, -0.016067479, -0.012757877, -0.0044601806, 0.0064703077, -0.00688993, -0.0038510514, -0.001236025, -0.014727395, 0.0038476672, 0.001232641, -0.0073636975, -0.00012605594, -0.032080814, -0.013258716, 0.011830647, -0.010605619, 0.009157245, 0.005390795, -0.014795076, -0.004081167, -0.021495499, -0.0154989585, 0.011153836, -0.017759506, -0.028101169, 0.016297596, -0.008060812, 0.014903366, 0.02977966, -0.0072892485, -0.009969418, -0.03245983, -0.018382171, -0.015783219, -0.034679767, 0.013691875, -0.014199483, -0.006219888, -0.014185946, 0.009806983, 0.022970947, -0.031593513, 0.01706916, 0.017042087, -0.007329857, 0.0046361513, -0.005451708, -0.17434637, -0.0046361513, 0.0125683695, -0.018233273, 0.025258565, 0.04320758, 0.008879753, 0.005769809, -0.022294136, 0.02402677, -0.0027427743, -0.0017275587, -0.024811871, 0.0048358105, -0.027072417, 0.019911762, 0.003184393, -0.0034212768, -0.004548166, 0.006720728, 0.043559518, 0.0031996213, -0.0045989268, -0.005109919, -0.0033163712, -0.00974607, -0.010565011, 0.030618904, -0.0003307911, -0.023363495, -0.0050693103, -0.0146191055, 0.0197764, -0.0031928532, 0.020615647, -0.0011768042, -0.00026120653, -0.022212919, -0.014727395, 0.0038815078, 0.023661293, 0.020629182, 0.023661293, 0.0044331085, -0.013698643, 0.049894467, 0.02184744, -0.0060574533, 0.009279071, 0.0021065725, 0.028182387, -0.030618904, -0.0022639309, -0.00013345855, 0.012060762, 0.008135261, 0.012223196, 0.0022808511, -0.0024923545, -0.045535807, -0.01103201, -0.019627502, 0.004609079, -0.03863234, -0.009624245, -0.013319629, -0.012696964, 0.009373824, -0.029075775, 0.012155515, -0.010111548, -0.005519389, -9.263843e-05, -0.0075329, -0.0041590002, 0.017678289, 0.0033942044, 0.026855838, -0.003759682, -0.0127105, -0.027857518, 0.025326246, -0.008257087, 0.012825558, 0.019505676, -0.014240092, -0.019275561, 0.02066979, -0.00011294274, -0.011079387, 0.009116637, -0.029427718, 0.011207981, -0.031539366, 0.016067479, 0.020087734, -0.014091194, 0.003438197, -0.0007694489, 0.004477101, 0.018097911, 0.0069914516, -0.011343343, -0.011275662, 0.022916801, 0.0076005813, -0.0030270347, -0.0050185495, 0.01681197, -0.019627502, -0.010185997, -0.026192565, 0.007147118, 0.023336424, 0.013746019, 0.013475296, -0.0018663048, -0.03189131, 0.031674728, 0.009285839, 0.051491737, -0.01931617, -0.0142536275, 0.010632692, -0.0054957005, -0.004751209, -0.09513248, -0.047160152, -0.0035566387, 0.0022893113, -0.008121725, 0.046212617, -0.016541246, 0.013746019, 0.0029322812, 0.039688163, 0.007776552, -0.010991401, -0.012297645, -0.017272202, 0.004724137, -0.013786629, -0.0094144335, -0.010064171, -0.025299175, 0.021685006, 0.002201326, 0.0113974875, -0.03256812, -0.007979595, 0.022943873, 0.0043924996, -0.036683127, 0.030943774, 0.010565011, 0.0147680035, -0.0032334619, -0.031079136, -0.0027224699, -0.02049382, 0.021021731, -0.0032351539, -0.014213019, 0.0046463036, 0.017867796, -0.011235054, 0.0004809584, 0.031539366, 0.011485473, -0.026923519, 0.015038728, -0.005360339, -0.0012140287, 0.018246809, 0.018842403, -0.03137693, -0.041935176, -0.012629283, -0.0469165, 0.04079813, -0.014795076, -0.0038205949, -0.0019306018, 0.0074922913, -0.017678289, -0.004084551, -0.019641038, 0.009150477, -0.02217231, 0.015593712, 0.025434537, 0.0011996465, 0.0069711474, -0.013285789, 0.033948813, -0.02167147, -0.00096953096, 0.027911663, -0.030537687, -0.011235054, -0.044507053, 0.005668287, -0.0111741405, 0.008054044, -0.012243501, -0.007681798, -0.010273983, -0.020196022, -0.017556462, -0.01617577, 0.020412603, 0.008081117, -0.033867594, 0.0041150074, -0.006345098, -0.004165768, 0.005272353, 0.033759303, 0.04445291, -0.017800115, -0.0011235053, 0.01467325, 0.007133582, -0.025624042, 0.054036546, 0.024405785, 0.009387361, -0.010057403, -0.06280801, 0.0054449397, -0.009306143, -0.01385431, 0.0048290426, -0.021130022, 0.007607349, -0.029590152, 0.007187727, 0.025190884, -0.019004837, -0.009556564, -0.00020653293, 0.00043252416, -0.016595392, -0.0104431845, 0.019695183, -0.0064296992, 0.015702002, -0.0039221165, 0.011214749, 0.0034009723, 0.021833904, 0.018341564, 0.0073569296, 0.0010795126, -0.008988042, 0.029833805, -0.040554482, -0.010030331, 0.002140413, -0.007194495, -0.015471887, 0.020290777, -0.035681445, -0.025272101, 0.01717745, 0.032297395, 0.010964329, 0.015187626, -0.0063958587, -0.031945452, 0.009170782, -0.0044601806, -0.009055723, -0.0028730603, -0.014524352, -0.017448174, 0.021035269, 0.0037935225, 0.034571476, 0.004849347, -0.02206402, -0.029508935, -0.02127892, -0.0022233222, 0.0238508, -0.006768104, -0.007201263, 0.0072351038, 0.04870328, 0.018558143, 0.014267164, -0.010043867, -0.0067748725, 0.01746171, 0.0049982453, 0.020304313, 0.00085320417, -0.02770862, -0.008913593, 0.0058916346, 0.008169102, -0.010307823, 0.015119945, 0.009996491, 0.015932119, 0.008114957, -0.024202742, 0.019465068, -0.011451633, -0.014064121, 0.00048772653, -0.007580277, 0.01635174, 0.018449852, -0.018016694, 0.029265283, 0.003573559, 0.007018524, 0.004544782, 0.0066564307, 0.0036006316, -0.0016573395, 0.011844182, -0.0045583183, 0.008480434, -0.015837364, 0.015092873, 0.015756147, -0.00081301853, -0.019004837, -0.0068493215, -0.016081017, -0.007918682, 0.0117629655, -0.021373674, -0.0025634195, 0.027207779, 0.028913341, 0.015255307, -0.000909464, -0.0080269715, 0.00974607, -0.01185095, 0.0034517332, 0.0063146413, -0.009664853, -0.018937156, 0.021820368, 0.010314591, 0.028832125, 0.02256486, 0.0058205696, 0.010984633, 0.04992154, -0.0007977903, -0.01752939, 0.015350061, -0.0019136815, -0.019695183, 0.014876293, -0.02095405, -0.010707141, -0.005123455, 0.004101471, -0.01617577, 0.0039051962, 0.0011251974, 0.056039903, 0.015377133, 0.015228235, -0.008778231, 0.008636101, 0.016026871, 0.018246809, 0.0021844057, -0.019086054, -0.02496077, 0.0026175643, 0.0011395796, -0.017258666, -0.0066530467, -0.015092873, 0.0012707115, -0.01517409, 0.027248388, -0.007451683, -0.031106208, -0.0009213082, 0.023404105, -0.0004151809, -0.006206352, -0.0032300777, 0.0036446243, 0.0293465, -0.00960394, 0.020399066, -0.022632541, 0.030835483, 0.023052163, -0.026030129, -0.024405785, 0.02081869, -0.0016251911, 0.008886521, -0.026436215, 0.0045075575, 0.018409245, -0.015079336, 0.0141047295, 0.00058713305, -0.041366655, -0.0053704907, -0.036791414, -0.026273781, -0.042422477, -0.020859297], index=0, object='embedding')], model='text-embedding-ada-002-v2', object='list', usage=Usage(prompt_tokens=4, total_tokens=4))\n",
      "INFO:root:Query Vector: [-0.006487228, -0.0061319023, -0.008791768, -0.018625824, -0.020371994, -3.9260294e-06, -0.008128493, 0.019383851, -0.005180984, -0.023431176, 0.014754468, 0.033407364, -0.02431103, 0.0023772966, 0.0017529391, 0.0030084224, 0.024175668, -0.008480434, 0.019275561, -0.00646354, -0.004805354, 0.007404306, -0.012236733, -0.03614168, 0.0128593985, 0.0067105754, -0.0054043313, -0.035925098, -0.014551424, 0.014321309, 0.03132279, -0.010544706, -0.0082435515, -0.011627603, -0.017326348, -0.013583586, 0.023864336, 0.0013037061, -0.004798586, -0.012081066, 0.02845311, 0.014050584, -0.004937332, -0.024730653, -0.015336525, 0.009245231, 0.0019678264, -0.0057427366, -0.009773143, 0.003634472, 0.028967487, 0.0026040282, 0.004355275, -0.021576717, 0.0020507355, -0.010131852, -0.008669942, 0.0017850875, 0.019113127, -0.008920361, 0.0024500538, 0.014118265, -0.022118164, 0.0004217375, 0.010849271, 0.012365326, -0.015580176, 0.029590152, 0.0029475095, -0.021143558, 0.006690271, 0.021008195, 0.008541347, -0.0020084349, 0.03370516, -0.0061725113, -0.010896648, -0.02592184, 0.00778332, 0.003103176, 0.005120071, 0.008669942, -0.004544782, 0.0043620435, -0.006182663, -0.017448174, -0.0028950567, 0.0019948988, -0.008419522, 0.0043857316, -0.012608978, -0.0107342135, 0.033975884, 0.011776501, -0.009942345, 0.012020153, 0.012981224, 0.007966059, 0.015688466, -0.01595919, -0.012378863, 0.0036513922, -0.029536007, -0.00778332, -0.011952472, -0.0076953345, -0.0012588674, 0.0033349835, 0.023891408, 0.0030744113, -0.009861128, 0.021211239, 0.019410923, -0.0477016, 0.0016015026, -0.009705462, -0.00039128104, -0.025434537, -0.0030777955, -0.0104431845, 0.033759303, 0.027153635, 0.012839094, -0.0025211188, 0.019722257, -0.012229964, -0.00996265, -0.01681197, -0.027857518, 0.0018747649, 0.04737673, 0.008216479, -0.016960869, 0.013597121, 0.00020558116, 0.021901585, 0.0013798473, -0.0012470232, -0.019465068, -0.00067173433, 0.0038205949, 0.014632641, 0.008114957, -0.0025549594, -0.025434537, 0.0029035169, 0.0058070337, 0.010625924, 0.002715702, -0.015295916, -0.010544706, -0.028263604, 0.0023942168, 0.022483643, 0.015877973, 0.015160554, 0.00057317386, 0.008460131, -0.014605569, -0.008812072, -0.008642869, -0.00608791, 0.022998018, 0.0059999246, -0.002456822, 0.041962247, 0.027261924, 0.011722357, -0.009001579, 0.016405884, 0.0142807, 0.027288998, -0.02431103, 0.016094552, -0.002069348, 0.0037495298, -0.0004995707, -0.008473666, -0.009204622, -0.0008109035, -0.018273883, 0.0051674475, -0.002011819, -0.0011395796, -0.014240092, 0.003170857, -0.0043654274, -0.029481862, 0.0007017678, -0.014483743, 0.018165592, 0.019871155, -0.014009976, -0.0025228108, -0.6618665, -0.029725514, -0.007769784, 0.009529491, -0.0006543911, 0.01010478, 0.01010478, -0.0044500288, -0.0011091231, 0.012778181, 0.0041556163, 0.020642718, -0.009258767, -0.018003158, 0.014064121, -0.033786375, -0.0006856936, -0.043721955, -0.017272202, 0.0078036245, -0.032622263, 0.004727521, 0.002668325, -0.0024466696, -0.038334545, -0.00094499654, 0.02470358, 0.008405985, -0.01456496, -0.0048831874, -0.022930337, 0.00054737047, 0.0050862306, -0.023688365, 0.023160454, -0.018761186, -0.009306143, 0.034409042, 0.0072418717, 0.01770536, -0.022632541, 0.0062368084, -0.0017343267, -0.0053434186, -0.0068459376, 0.010233373, 0.020547966, 0.027695082, 0.0076005813, 0.0073163207, -0.014497279, 0.016541246, -0.017908404, -0.0118374145, -0.0064432356, 0.022212919, 0.014348381, -0.0095633315, 0.007729175, -0.0065176846, -0.012006617, 0.007796856, -0.027695082, 0.005651367, -0.0006053223, -0.022009876, 0.00015408013, 0.014984583, 0.00093738246, -0.0230657, 0.015147017, 0.019465068, 0.013509137, -0.007830697, 0.014984583, 0.023431176, 0.013915222, 0.017272202, 0.024757726, -0.0134956, 0.0041251597, -0.022077557, -0.008297696, -0.012751109, 0.017190985, -0.0074922913, 0.007871306, -0.01635174, 0.011952472, 0.008236783, 0.0055464613, 0.025136739, -0.00091284805, -0.053197302, -0.02888627, 0.014903366, -0.008419522, 0.013536208, -0.010517634, -0.023431176, -0.01613516, 0.004416188, 0.03974231, 0.013482064, 0.014172411, -0.003182701, -0.012798485, 0.017976085, 0.01981701, -0.036304113, 0.009752838, 0.018111447, -0.0158509, 0.010382272, 0.0069711474, -0.022402426, -0.003952573, 0.0006691963, 0.0028781365, -0.026625723, 0.029319428, 0.006950843, 0.04028376, 0.010761286, -0.026043665, -0.004145464, -1.5677679e-05, -0.024838943, -0.0079525225, 0.022876192, -0.0074110744, 3.4210654e-05, 0.01624345, -0.01388815, 0.013360238, 0.01545835, 0.034788057, -0.011160604, 0.012575137, 0.010334895, -0.021251848, -0.0068425536, 0.008805304, 0.00087393145, -0.02742436, -0.033326145, -0.006768104, -0.008209711, 0.004727521, -0.014185946, -0.011607299, -0.016757827, -0.010849271, 0.022686686, 0.00031619737, -0.0020067429, -0.021657934, -0.012453312, -0.030429397, -0.031755947, -0.028994558, 0.008216479, -0.0011438096, -0.0007339163, 0.009705462, -0.01888301, 0.0038104428, 0.029156994, -0.015025192, -0.025542825, 0.026179027, -0.011431328, -0.00739077, 0.008588725, -0.022212919, 0.0060506854, 0.011370415, -0.0030744113, -0.0008806996, -0.018003158, 0.0022402424, 0.025624042, 0.01949214, 0.011038778, -0.008209711, 0.018517533, 0.0138137005, 0.015661394, -0.011823879, 0.005526157, 0.0065176846, 0.033948813, -0.006152207, -0.009373824, 0.014700322, 0.0061894315, -0.011262125, -0.00039212705, 0.017339883, 0.014091194, -0.010301054, 0.019451533, 0.0077630156, 0.013746019, 0.01021307, -0.027234852, -0.00023032704, -0.03681849, 0.018747648, 0.0090489555, 0.015580176, -0.011478705, -0.0017969317, -0.018693505, 0.009624245, 0.013746019, 0.0004230065, 0.011214749, -0.021793297, 0.0055464613, 0.0065007643, -0.0065819817, -0.003509262, -0.01735342, 0.009184318, 0.009130172, -0.00048434245, 0.011499009, -0.01589151, -0.041068856, -0.015877973, -0.002211478, 0.028344821, -0.0026463289, 0.0066496627, 0.013048905, 0.016757827, -0.00049068755, 0.025339782, -0.03795553, -0.007966059, 0.006250344, 0.014307773, 0.0009864512, 0.036791414, -0.010510866, 0.030997917, 0.010625924, 0.007404306, 0.005769809, -0.032730553, -0.0045075575, -0.0025515754, 0.0015744303, -0.008399217, -0.017204521, -0.005258817, -0.02609781, -0.0019932068, 0.000842629, 0.0082435515, 0.0039897976, 0.014429598, -0.023796655, 0.0068933144, -0.014943974, 0.009103101, -0.0026344846, 0.023945553, -0.0103687355, -0.015932119, -0.008378914, 0.005644599, -0.027045345, 0.020737471, 0.0019136815, 0.03492342, 0.0072892485, 0.011573458, 0.0097122295, -0.015011655, -0.046185546, 0.014267164, 0.022226455, -0.023295816, -0.012480385, -0.041177146, 0.014402526, -0.026192565, -0.0043214345, 0.0069914516, -0.0030354948, 8.079425e-05, -0.008202942, 0.0020947284, -0.0071268138, 0.024040306, -0.006812097, -0.0061488226, -0.0028003033, -0.009373824, 0.025867695, 0.0061251344, -0.025272101, 0.020764545, 0.007871306, 0.008148798, -0.014903366, 0.0025431153, -0.024662971, -0.017651215, -0.0077427113, 0.0047173686, 0.012764645, 0.007004988, 0.016202841, 0.03067305, 0.010666532, -0.0032943748, 0.014321309, -0.00390858, -0.038388688, 0.006680119, 0.0063180253, 0.06827664, 0.009874664, -0.008595493, 0.012947383, -0.03727872, -0.0049677887, -0.01628406, -0.0067816405, 0.0049982453, 0.009982954, -0.017380493, 0.023390569, 0.0015363597, 0.002724162, 0.017407564, 0.020899907, 0.0030642592, -0.02755972, -0.02106234, -0.0005118379, 0.02295741, -0.011025242, 0.018734112, 0.02467651, -0.030050384, -0.015945654, -0.009055723, -0.014240092, -0.010903416, -0.025705261, 0.01842278, 0.010287519, -0.0065210685, -0.0037224574, 0.006493996, 0.03413832, 0.0046259994, -0.005323114, 0.0073027844, -0.004940716, 0.031431075, 0.017786577, -0.008927129, -0.0037732183, -6.984895e-05, -0.017976085, -0.011052314, 0.030321108, -0.0039694933, -0.008649637, 0.016013335, 0.010625924, -0.050869074, -0.001751247, 0.014849221, 0.012189356, -0.0009534567, -0.0029508935, 0.004216529, -0.025190884, -0.024514074, -0.01589151, 0.0064669237, 0.0016624157, 0.009062491, -0.015322988, -0.0030388788, 0.0043146666, -0.023431176, 0.0062131197, -0.016094552, -0.018057302, -0.032513972, 0.0009221542, 6.255209e-05, 0.0066868872, 0.018896548, -0.011025242, -0.019803474, 0.039038427, -0.021360137, 0.0078780735, -0.000421526, -0.020872833, -0.006744416, -0.0016251911, -0.0039255004, 0.01556664, -0.006023613, 0.009894969, -0.011438096, -0.004612463, 0.013367006, -0.0021691774, -0.012683428, 0.02020956, -0.0017580151, 0.035356577, -0.009651316, -0.00077621697, 0.00026184105, -0.040067177, -0.031539366, -0.011417792, -0.00051014585, 0.016636001, 0.011600531, 0.013218108, 0.007580277, 0.016365277, -0.0014069197, -0.02424335, 0.027722156, -0.001099817, 0.0066530467, 0.025041986, 0.029536007, 0.024541147, -0.003444965, -0.012006617, -0.0021065725, -0.045346297, 0.009143709, 0.02378312, 8.174601e-05, -0.003045647, 0.015661394, -0.0012859398, 0.0027461583, -0.0059423954, 0.01189156, 0.041935176, -0.018476924, 0.011810342, -0.029238211, -0.0048933392, -0.009130172, 0.033001278, -0.019573357, -0.010307823, 0.011790038, 0.015620785, -0.0078036245, -0.018734112, 0.0018764569, -0.0222806, -0.018179128, 0.02788459, -0.026517432, 0.034219537, -0.012162283, 0.028588472, -0.03505878, -0.034652695, -0.009441505, 0.019126663, -0.0060066925, -0.007938987, 0.04994861, 0.019437995, 0.032730553, -0.0089745065, 0.024148596, -0.008656406, -0.009164013, -0.0040134857, -0.0031065599, 0.0053569544, 0.00016042522, 0.0019948988, 0.02977966, 0.0011768042, 0.0414208, 0.00623004, -0.008886521, 0.0082435515, 0.0069846837, -0.0013874614, -0.025258565, -0.029698443, 0.012060762, 0.01488983, 0.0063383295, 0.027329605, -0.015580176, -0.01078159, 0.04066277, 0.0059187072, -0.012629283, 0.0019999747, 0.028805053, -0.018152056, 0.021657934, 0.0008265547, 0.009935577, -0.013130123, 0.0083180005, -0.009840824, -0.013021832, 0.009360288, 0.0045583183, 0.012940615, 0.0067173433, -0.003631088, -0.02788459, -0.014172411, -0.027288998, -0.009251999, -0.0053468025, -0.026327927, 0.0016404192, -0.0139558315, -0.03102499, -0.03367809, 0.029887948, 0.019437995, 0.0014965971, 0.026463289, -0.028209459, -0.020236632, 0.049894467, 0.03126864, 0.028182387, 0.0012377171, 0.03795553, -0.00221317, 0.01081543, -0.014578497, 0.020832226, 0.0020896522, 0.0022436266, 0.025421, 0.02156318, -0.0142807, -0.014524352, 0.006859474, -0.009245231, 0.009908505, -0.02016895, 0.029536007, 0.004236833, -0.011119995, -0.0035329505, -0.015512495, -0.015607249, 0.037224572, -0.0022351665, -0.0033282153, -0.0083180005, 0.0001648668, -0.0021657934, 0.017718896, 0.0054889326, -0.01563432, -0.011966009, -0.0007982133, 0.0039762612, -0.003181009, -0.003302835, -0.0089000575, -0.018612286, 0.03367809, -0.0043823477, 0.0056615192, -0.0047613615, 0.009191086, -0.014971047, -0.011715588, 0.014158874, 0.032649335, -0.016216379, 0.016690146, -0.014307773, -0.00996265, 0.008439826, -0.002334996, -0.004165768, -0.017272202, -0.008094653, -0.02038553, 0.03145815, 0.0047410573, -0.029752586, 0.0032351539, -0.021617325, -0.017326348, -0.007823928, -0.012378863, 0.03132279, -0.025393927, -0.014172411, -0.012114907, -0.011553154, 0.019397387, 0.0045109414, -0.012839094, 0.004730905, 0.009732534, -0.01863936, 0.005438172, 0.0139558315, -0.005705512, 0.001884917, 0.005130223, 0.011573458, -0.033434436, 0.00881884, -0.013454991, -0.02705888, -0.021116486, -0.0026412527, -0.021130022, -0.0213466, -0.03270348, 0.0064669237, 0.0013485448, 0.0067985607, -5.4990847e-05, 0.0019729023, 0.026923519, -0.023756046, 0.003962725, 0.013800165, 0.0022571627, -0.0032520741, 0.004825658, 0.0058205696, -0.0004809584, -0.030862555, 0.009813751, -0.0065176846, 0.022551324, -0.011356879, 0.016717218, -0.0012808638, -0.0017597071, -0.013874614, -0.00885268, -0.009407665, -0.016040407, 0.0055430774, 0.009509186, 0.018436316, 0.010030331, -0.025759405, -0.01970872, -0.008128493, -0.005908555, -0.025177348, -0.028750908, -0.03909257, 0.030943774, -0.0069102347, -0.014375454, -0.02406738, -0.0033772842, -0.023160454, -0.012622515, 0.010517634, -0.014361917, 0.0005279121, 0.038659412, -0.0104431845, 0.025123203, 0.011052314, -0.0027427743, 0.0062638805, 0.017434636, -0.014064121, -0.0061285184, 0.029617224, 0.0007182651, -0.007722407, -0.012189356, -0.0023739126, -0.019370314, 0.008399217, 0.032053743, 0.0037732183, -0.022700222, -0.006741032, 0.01896423, 0.012913543, 0.018910084, -0.0017064083, -0.0066631986, -0.010192765, 0.008385682, 0.013874614, -0.0038645875, 0.007986363, 0.010483794, -0.0063789384, 0.0033282153, 0.004521094, -0.015106409, 0.006862858, -0.013312861, 0.016730754, 0.007275712, 0.0100777075, 0.008372145, -0.0031928532, 0.0074381465, 0.0056107584, -0.00073137827, -0.016622465, -0.024283959, 0.018409245, -0.007133582, -0.006676735, 0.007208031, 0.014659714, 0.012108139, -0.021373674, 0.004334971, 0.0004276596, -0.03023989, -0.00029589306, -0.022794975, -0.03844283, -0.0047647455, 0.002470358, -0.012879702, -0.00050295476, -0.0043721953, 0.019898226, 0.0054787803, 0.0048324266, 0.030808412, -0.008981274, -0.009502418, -0.00035405645, 0.007702103, -0.0028781365, 0.008717318, 0.2170125, -0.013407615, -0.00020589842, 0.022036947, -0.011187676, 0.009800215, 0.023011554, -0.0030964077, -0.0012817098, 0.020223096, 0.032405682, 0.0019745945, -0.01792194, 0.012845862, 0.0052283606, -0.0032673024, -0.017962549, -0.028588472, 0.007072669, -0.025867695, -0.0018510765, 0.02496077, -0.014456671, -0.03662898, 0.0034601933, 0.006179279, 0.0071132774, -0.0052148243, -0.0069203866, 0.009455042, 0.0023197678, 0.025610507, -0.001493213, 0.0020219712, -0.0013045521, -0.00814203, -0.0008299388, -0.024893088, 0.010720678, 0.042720273, 0.027356679, -0.0022436266, 0.0028239915, 0.010375504, 0.006206352, 0.009732534, -0.02138721, -0.012385631, 0.0032486902, 0.017015014, -0.010524402, 0.015810292, 0.012040458, 0.038578194, 0.012913543, -0.012101371, -0.004873035, 0.011553154, 0.005969468, 0.006937307, -0.0118374145, 0.00233838, -0.011979545, 0.0343549, -0.009055723, 0.018341564, -0.04567117, 0.0046327673, -0.007587045, -0.011898328, -0.011383952, -0.0062875687, 0.0059830043, -0.024270423, -0.02345825, -0.0026226405, 0.028317748, 0.029644297, 0.01235179, 0.011113227, -0.033082493, -0.036547765, -0.009570099, -0.015485423, -0.026233172, -0.00195429, 0.00054271735, -0.013732484, -0.016108088, -0.002267315, 0.002668325, -0.031214498, -0.0046361513, -0.0017072543, -0.00569536, 0.025664652, 0.012764645, 0.011465169, -0.004406036, -0.0042537535, -0.042368334, 0.03416539, 0.028398966, 0.005715664, -0.009441505, 0.020114806, 0.011106459, 0.0014060737, -0.0074990597, -0.014402526, -0.02016895, -0.046618704, 0.01763768, -0.0039694933, -0.0183551, -0.01399644, -0.0012165668, -0.02274083, 0.02552929, -0.016067479, -0.012757877, -0.0044601806, 0.0064703077, -0.00688993, -0.0038510514, -0.001236025, -0.014727395, 0.0038476672, 0.001232641, -0.0073636975, -0.00012605594, -0.032080814, -0.013258716, 0.011830647, -0.010605619, 0.009157245, 0.005390795, -0.014795076, -0.004081167, -0.021495499, -0.0154989585, 0.011153836, -0.017759506, -0.028101169, 0.016297596, -0.008060812, 0.014903366, 0.02977966, -0.0072892485, -0.009969418, -0.03245983, -0.018382171, -0.015783219, -0.034679767, 0.013691875, -0.014199483, -0.006219888, -0.014185946, 0.009806983, 0.022970947, -0.031593513, 0.01706916, 0.017042087, -0.007329857, 0.0046361513, -0.005451708, -0.17434637, -0.0046361513, 0.0125683695, -0.018233273, 0.025258565, 0.04320758, 0.008879753, 0.005769809, -0.022294136, 0.02402677, -0.0027427743, -0.0017275587, -0.024811871, 0.0048358105, -0.027072417, 0.019911762, 0.003184393, -0.0034212768, -0.004548166, 0.006720728, 0.043559518, 0.0031996213, -0.0045989268, -0.005109919, -0.0033163712, -0.00974607, -0.010565011, 0.030618904, -0.0003307911, -0.023363495, -0.0050693103, -0.0146191055, 0.0197764, -0.0031928532, 0.020615647, -0.0011768042, -0.00026120653, -0.022212919, -0.014727395, 0.0038815078, 0.023661293, 0.020629182, 0.023661293, 0.0044331085, -0.013698643, 0.049894467, 0.02184744, -0.0060574533, 0.009279071, 0.0021065725, 0.028182387, -0.030618904, -0.0022639309, -0.00013345855, 0.012060762, 0.008135261, 0.012223196, 0.0022808511, -0.0024923545, -0.045535807, -0.01103201, -0.019627502, 0.004609079, -0.03863234, -0.009624245, -0.013319629, -0.012696964, 0.009373824, -0.029075775, 0.012155515, -0.010111548, -0.005519389, -9.263843e-05, -0.0075329, -0.0041590002, 0.017678289, 0.0033942044, 0.026855838, -0.003759682, -0.0127105, -0.027857518, 0.025326246, -0.008257087, 0.012825558, 0.019505676, -0.014240092, -0.019275561, 0.02066979, -0.00011294274, -0.011079387, 0.009116637, -0.029427718, 0.011207981, -0.031539366, 0.016067479, 0.020087734, -0.014091194, 0.003438197, -0.0007694489, 0.004477101, 0.018097911, 0.0069914516, -0.011343343, -0.011275662, 0.022916801, 0.0076005813, -0.0030270347, -0.0050185495, 0.01681197, -0.019627502, -0.010185997, -0.026192565, 0.007147118, 0.023336424, 0.013746019, 0.013475296, -0.0018663048, -0.03189131, 0.031674728, 0.009285839, 0.051491737, -0.01931617, -0.0142536275, 0.010632692, -0.0054957005, -0.004751209, -0.09513248, -0.047160152, -0.0035566387, 0.0022893113, -0.008121725, 0.046212617, -0.016541246, 0.013746019, 0.0029322812, 0.039688163, 0.007776552, -0.010991401, -0.012297645, -0.017272202, 0.004724137, -0.013786629, -0.0094144335, -0.010064171, -0.025299175, 0.021685006, 0.002201326, 0.0113974875, -0.03256812, -0.007979595, 0.022943873, 0.0043924996, -0.036683127, 0.030943774, 0.010565011, 0.0147680035, -0.0032334619, -0.031079136, -0.0027224699, -0.02049382, 0.021021731, -0.0032351539, -0.014213019, 0.0046463036, 0.017867796, -0.011235054, 0.0004809584, 0.031539366, 0.011485473, -0.026923519, 0.015038728, -0.005360339, -0.0012140287, 0.018246809, 0.018842403, -0.03137693, -0.041935176, -0.012629283, -0.0469165, 0.04079813, -0.014795076, -0.0038205949, -0.0019306018, 0.0074922913, -0.017678289, -0.004084551, -0.019641038, 0.009150477, -0.02217231, 0.015593712, 0.025434537, 0.0011996465, 0.0069711474, -0.013285789, 0.033948813, -0.02167147, -0.00096953096, 0.027911663, -0.030537687, -0.011235054, -0.044507053, 0.005668287, -0.0111741405, 0.008054044, -0.012243501, -0.007681798, -0.010273983, -0.020196022, -0.017556462, -0.01617577, 0.020412603, 0.008081117, -0.033867594, 0.0041150074, -0.006345098, -0.004165768, 0.005272353, 0.033759303, 0.04445291, -0.017800115, -0.0011235053, 0.01467325, 0.007133582, -0.025624042, 0.054036546, 0.024405785, 0.009387361, -0.010057403, -0.06280801, 0.0054449397, -0.009306143, -0.01385431, 0.0048290426, -0.021130022, 0.007607349, -0.029590152, 0.007187727, 0.025190884, -0.019004837, -0.009556564, -0.00020653293, 0.00043252416, -0.016595392, -0.0104431845, 0.019695183, -0.0064296992, 0.015702002, -0.0039221165, 0.011214749, 0.0034009723, 0.021833904, 0.018341564, 0.0073569296, 0.0010795126, -0.008988042, 0.029833805, -0.040554482, -0.010030331, 0.002140413, -0.007194495, -0.015471887, 0.020290777, -0.035681445, -0.025272101, 0.01717745, 0.032297395, 0.010964329, 0.015187626, -0.0063958587, -0.031945452, 0.009170782, -0.0044601806, -0.009055723, -0.0028730603, -0.014524352, -0.017448174, 0.021035269, 0.0037935225, 0.034571476, 0.004849347, -0.02206402, -0.029508935, -0.02127892, -0.0022233222, 0.0238508, -0.006768104, -0.007201263, 0.0072351038, 0.04870328, 0.018558143, 0.014267164, -0.010043867, -0.0067748725, 0.01746171, 0.0049982453, 0.020304313, 0.00085320417, -0.02770862, -0.008913593, 0.0058916346, 0.008169102, -0.010307823, 0.015119945, 0.009996491, 0.015932119, 0.008114957, -0.024202742, 0.019465068, -0.011451633, -0.014064121, 0.00048772653, -0.007580277, 0.01635174, 0.018449852, -0.018016694, 0.029265283, 0.003573559, 0.007018524, 0.004544782, 0.0066564307, 0.0036006316, -0.0016573395, 0.011844182, -0.0045583183, 0.008480434, -0.015837364, 0.015092873, 0.015756147, -0.00081301853, -0.019004837, -0.0068493215, -0.016081017, -0.007918682, 0.0117629655, -0.021373674, -0.0025634195, 0.027207779, 0.028913341, 0.015255307, -0.000909464, -0.0080269715, 0.00974607, -0.01185095, 0.0034517332, 0.0063146413, -0.009664853, -0.018937156, 0.021820368, 0.010314591, 0.028832125, 0.02256486, 0.0058205696, 0.010984633, 0.04992154, -0.0007977903, -0.01752939, 0.015350061, -0.0019136815, -0.019695183, 0.014876293, -0.02095405, -0.010707141, -0.005123455, 0.004101471, -0.01617577, 0.0039051962, 0.0011251974, 0.056039903, 0.015377133, 0.015228235, -0.008778231, 0.008636101, 0.016026871, 0.018246809, 0.0021844057, -0.019086054, -0.02496077, 0.0026175643, 0.0011395796, -0.017258666, -0.0066530467, -0.015092873, 0.0012707115, -0.01517409, 0.027248388, -0.007451683, -0.031106208, -0.0009213082, 0.023404105, -0.0004151809, -0.006206352, -0.0032300777, 0.0036446243, 0.0293465, -0.00960394, 0.020399066, -0.022632541, 0.030835483, 0.023052163, -0.026030129, -0.024405785, 0.02081869, -0.0016251911, 0.008886521, -0.026436215, 0.0045075575, 0.018409245, -0.015079336, 0.0141047295, 0.00058713305, -0.041366655, -0.0053704907, -0.036791414, -0.026273781, -0.042422477, -0.020859297]\n",
      "INFO:elastic_transport.transport:POST http://localhost:9200/qa_data/_search [status:200 duration:0.039s]\n"
     ]
    },
    {
     "name": "stdout",
     "output_type": "stream",
     "text": [
      "INFO:     127.0.0.1:15641 - \"POST /ask/ HTTP/1.1\" 200 OK\n"
     ]
    }
   ],
   "source": [
    "import nest_asyncio\n",
    "nest_asyncio.apply()\n",
    "\n",
    "import uvicorn\n",
    "uvicorn.run(app, host=\"0.0.0.0\", port=5001, loop=\"none\")\n"
   ]
  }
 ],
 "metadata": {
  "kernelspec": {
   "display_name": "venv",
   "language": "python",
   "name": "python3"
  },
  "language_info": {
   "codemirror_mode": {
    "name": "ipython",
    "version": 3
   },
   "file_extension": ".py",
   "mimetype": "text/x-python",
   "name": "python",
   "nbconvert_exporter": "python",
   "pygments_lexer": "ipython3",
   "version": "3.10.8"
  }
 },
 "nbformat": 4,
 "nbformat_minor": 2
}
